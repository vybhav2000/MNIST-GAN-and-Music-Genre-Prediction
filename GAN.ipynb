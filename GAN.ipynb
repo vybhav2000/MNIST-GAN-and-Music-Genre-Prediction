{
  "nbformat": 4,
  "nbformat_minor": 0,
  "metadata": {
    "language_info": {
      "name": "python",
      "codemirror_mode": {
        "name": "ipython",
        "version": 3
      },
      "version": "3.7.3-final"
    },
    "orig_nbformat": 2,
    "file_extension": ".py",
    "mimetype": "text/x-python",
    "name": "python",
    "npconvert_exporter": "python",
    "pygments_lexer": "ipython3",
    "version": 3,
    "kernelspec": {
      "name": "python3",
      "display_name": "Python 3"
    },
    "colab": {
      "name": "GAN.ipynb",
      "provenance": []
    }
  },
  "cells": [
    {
      "cell_type": "code",
      "metadata": {
        "id": "kayd05nqwn3M"
      },
      "source": [
        "import numpy as np\n",
        "import pandas as pd\n",
        "import matplotlib.pyplot as plt"
      ],
      "execution_count": null,
      "outputs": []
    },
    {
      "cell_type": "markdown",
      "metadata": {
        "id": "FqfbFWWRwn3Z"
      },
      "source": [
        "#### Loading the images"
      ]
    },
    {
      "cell_type": "code",
      "metadata": {
        "id": "5ks0MyGwwn3b"
      },
      "source": [
        "from tensorflow.keras.datasets import mnist"
      ],
      "execution_count": null,
      "outputs": []
    },
    {
      "cell_type": "code",
      "metadata": {
        "id": "MEc7Gpfpwn3d"
      },
      "source": [
        "(X_train, y_train), (X_test, y_test) = mnist.load_data()"
      ],
      "execution_count": null,
      "outputs": []
    },
    {
      "cell_type": "code",
      "metadata": {
        "id": "3enASL1Xwn3f",
        "outputId": "f2b661b8-20ed-4102-b209-59a0e94fc4a7"
      },
      "source": [
        "y_train"
      ],
      "execution_count": null,
      "outputs": [
        {
          "output_type": "execute_result",
          "data": {
            "text/plain": [
              "array([5, 0, 4, ..., 5, 6, 8], dtype=uint8)"
            ]
          },
          "metadata": {
            "tags": []
          },
          "execution_count": 12
        }
      ]
    },
    {
      "cell_type": "markdown",
      "metadata": {
        "id": "qjisWD0-wn3m"
      },
      "source": [
        "#### Preproceesing the image"
      ]
    },
    {
      "cell_type": "code",
      "metadata": {
        "id": "UsCMiSgVwn3p"
      },
      "source": [
        "''' First we'll normalize the image ie making it between -1 and 1 since i am using tanh activation in generator last layer otherwise make it 0-1'''\n",
        "X_train = X_train/255\n",
        "X_train = X_train.reshape(-1, 28, 28, 1) * 2. - 1.#Making the values between -1 and 1\n",
        "X_test = X_test/255\n",
        "X_test = X_test.reshape(-1, 28, 28, 1) * 2. - 1."
      ],
      "execution_count": null,
      "outputs": []
    },
    {
      "cell_type": "code",
      "metadata": {
        "id": "kOU4oq9pwn3s",
        "outputId": "9b74b9bc-95ed-47a8-f31f-87352835fc20"
      },
      "source": [
        "X_train.shape"
      ],
      "execution_count": null,
      "outputs": [
        {
          "output_type": "execute_result",
          "data": {
            "text/plain": [
              "(60000, 28, 28, 1)"
            ]
          },
          "metadata": {
            "tags": []
          },
          "execution_count": 15
        }
      ]
    },
    {
      "cell_type": "code",
      "metadata": {
        "id": "5AiMEdXZwn3v"
      },
      "source": [
        "import tensorflow as tf\n",
        "from tensorflow.keras.layers import Dense,Reshape,Dropout,LeakyReLU,Flatten,BatchNormalization,Conv2D,Conv2DTranspose\n",
        "from tensorflow.keras.models import Sequential"
      ],
      "execution_count": null,
      "outputs": []
    },
    {
      "cell_type": "code",
      "metadata": {
        "id": "r9HMiendwn3z"
      },
      "source": [
        "random_noise_size=100#given"
      ],
      "execution_count": null,
      "outputs": []
    },
    {
      "cell_type": "markdown",
      "metadata": {
        "id": "iOY6rg7hwn31"
      },
      "source": [
        "#### Creating the Generator"
      ]
    },
    {
      "cell_type": "code",
      "metadata": {
        "id": "IObbemMzwn33"
      },
      "source": [
        "generator = Sequential()\n",
        "generator.add(Dense(7 * 7 * 128, input_shape=[random_noise_size]))#Using 7 so I can build upto 28\n",
        "generator.add(Reshape([7, 7, 128]))\n",
        "generator.add(BatchNormalization())\n",
        "generator.add(Conv2DTranspose(64, kernel_size=5, strides=2, padding=\"same\",activation=\"relu\"))\n",
        "generator.add(BatchNormalization())\n",
        "generator.add(Conv2DTranspose(1, kernel_size=5, strides=2, padding=\"same\",activation=\"tanh\"))"
      ],
      "execution_count": null,
      "outputs": []
    },
    {
      "cell_type": "markdown",
      "metadata": {
        "id": "FbOoMWDVwn36"
      },
      "source": [
        "#### Creating the discriminator"
      ]
    },
    {
      "cell_type": "code",
      "metadata": {
        "id": "2VnZLjj6wn38"
      },
      "source": [
        "discriminator = Sequential()\n",
        "discriminator.add(Conv2D(64, kernel_size=5, strides=2, padding=\"same\",activation=LeakyReLU(0.3),input_shape=[28, 28, 1]))\n",
        "discriminator.add(Dropout(0.5))   #Adding dropout to prevent overfitting\n",
        "discriminator.add(Conv2D(128, kernel_size=5, strides=2, padding=\"same\",activation=LeakyReLU(0.3)))\n",
        "discriminator.add(Dropout(0.5))\n",
        "discriminator.add(Flatten())\n",
        "discriminator.add(Dense(1, activation=\"sigmoid\"))\n",
        "discriminator.compile(loss=\"binary_crossentropy\", optimizer=\"adam\")"
      ],
      "execution_count": null,
      "outputs": []
    },
    {
      "cell_type": "markdown",
      "metadata": {
        "id": "ZtWWvQn6wn39"
      },
      "source": [
        "#### Binary CrossEntropy: It is a loss function specifically used when there is a binary classifier. It is a log loss function"
      ]
    },
    {
      "cell_type": "markdown",
      "metadata": {
        "id": "DgWQ8sINwn3-"
      },
      "source": [
        "#### Joining generator and discriminator"
      ]
    },
    {
      "cell_type": "code",
      "metadata": {
        "id": "VbZR6gQtwn4B"
      },
      "source": [
        "GAN = Sequential([generator, discriminator])"
      ],
      "execution_count": null,
      "outputs": []
    },
    {
      "cell_type": "code",
      "metadata": {
        "id": "1Ovo-sRDwn4G"
      },
      "source": [
        "discriminator.trainable = False #Setting discrimator trainability to false so as to train the Gan"
      ],
      "execution_count": null,
      "outputs": []
    },
    {
      "cell_type": "code",
      "metadata": {
        "id": "GgAmTdpDwn4G"
      },
      "source": [
        "GAN.compile(loss=\"binary_crossentropy\", optimizer=\"adam\")"
      ],
      "execution_count": null,
      "outputs": []
    },
    {
      "cell_type": "code",
      "metadata": {
        "id": "me5BZ_Yswn4I",
        "outputId": "3f51f7dd-31c1-475c-a513-8a50e97be713"
      },
      "source": [
        "GAN.summary()"
      ],
      "execution_count": null,
      "outputs": [
        {
          "output_type": "stream",
          "text": [
            "Model: \"sequential_4\"\n",
            "_________________________________________________________________\n",
            "Layer (type)                 Output Shape              Param #   \n",
            "=================================================================\n",
            "sequential (Sequential)      (None, 28, 28, 1)         840705    \n",
            "_________________________________________________________________\n",
            "sequential_3 (Sequential)    (None, 1)                 212865    \n",
            "=================================================================\n",
            "Total params: 1,053,570\n",
            "Trainable params: 840,321\n",
            "Non-trainable params: 213,249\n",
            "_________________________________________________________________\n"
          ],
          "name": "stdout"
        }
      ]
    },
    {
      "cell_type": "code",
      "metadata": {
        "id": "6IhF87E3wn4K"
      },
      "source": [
        "batch_size=30 #Can be user set\n",
        "data=X_train\n",
        "dataset = tf.data.Dataset.from_tensor_slices(data).shuffle(buffer_size=1000) #shuffling"
      ],
      "execution_count": null,
      "outputs": []
    },
    {
      "cell_type": "code",
      "metadata": {
        "id": "Xsr0lf9ywn4M"
      },
      "source": [
        "dataset = dataset.batch(batch_size, drop_remainder=True).prefetch(1) #Creating batches"
      ],
      "execution_count": null,
      "outputs": []
    },
    {
      "cell_type": "markdown",
      "metadata": {
        "id": "ShsCvVIMwn4N"
      },
      "source": [
        "### Train"
      ]
    },
    {
      "cell_type": "code",
      "metadata": {
        "id": "O3NeS09qwn4P",
        "outputId": "4c4f6e87-1d99-444c-b5ab-351c76d92298"
      },
      "source": [
        "generator, discriminator = GAN.layers\n",
        "epochs=2 #can be user set.\n",
        "for e in range(epochs):\n",
        "    i=0 # just to keep in touch with the batch numbers\n",
        "    print(f'I am currently in epoch number :{e}')\n",
        "    for x in dataset:\n",
        "        i+=1\n",
        "        if i%20==0:\n",
        "            print(f'\\tCurrently in batch number {i} of {len(data)//batch_size}')\n",
        "\n",
        "        '''Training the discriminator'''\n",
        "        noise = tf.random.normal(shape=[batch_size, random_noise_size])  # creating some random noise\n",
        "        gen=generator(noise)\n",
        "        gen_real = tf.concat([gen, tf.dtypes.cast(x,tf.float32)], axis=0) # Concatenate Generated Images against the Real Ones\n",
        "        y1 = tf.constant([[0.]] * batch_size + [[1.]] * batch_size) #Setting targets for fake and real 0-Fake\n",
        "        discriminator.trainable = True\n",
        "        discriminator.train_on_batch(gen_real, y1)\n",
        "\n",
        "        '''Training the generator'''\n",
        "        y2 = tf.constant([[1.]] * batch_size)\n",
        "        discriminator.trainable = False #we dont want to train discriminator now\n",
        "        GAN.train_on_batch(noise, y2)\n",
        "print('Training Complete')"
      ],
      "execution_count": null,
      "outputs": [
        {
          "output_type": "stream",
          "text": [
            "I am currently in epoch number :0\n",
            "\tCurrently in batch number 20 of 2000\n",
            "\tCurrently in batch number 40 of 2000\n",
            "\tCurrently in batch number 60 of 2000\n",
            "\tCurrently in batch number 80 of 2000\n",
            "\tCurrently in batch number 100 of 2000\n",
            "\tCurrently in batch number 120 of 2000\n",
            "\tCurrently in batch number 140 of 2000\n",
            "\tCurrently in batch number 160 of 2000\n",
            "\tCurrently in batch number 180 of 2000\n",
            "\tCurrently in batch number 200 of 2000\n",
            "\tCurrently in batch number 220 of 2000\n",
            "\tCurrently in batch number 240 of 2000\n",
            "\tCurrently in batch number 260 of 2000\n",
            "\tCurrently in batch number 280 of 2000\n",
            "\tCurrently in batch number 300 of 2000\n",
            "\tCurrently in batch number 320 of 2000\n",
            "\tCurrently in batch number 340 of 2000\n",
            "\tCurrently in batch number 360 of 2000\n",
            "\tCurrently in batch number 380 of 2000\n",
            "\tCurrently in batch number 400 of 2000\n",
            "\tCurrently in batch number 420 of 2000\n",
            "\tCurrently in batch number 440 of 2000\n",
            "\tCurrently in batch number 460 of 2000\n",
            "\tCurrently in batch number 480 of 2000\n",
            "\tCurrently in batch number 500 of 2000\n",
            "\tCurrently in batch number 520 of 2000\n",
            "\tCurrently in batch number 540 of 2000\n",
            "\tCurrently in batch number 560 of 2000\n",
            "\tCurrently in batch number 580 of 2000\n",
            "\tCurrently in batch number 600 of 2000\n",
            "\tCurrently in batch number 620 of 2000\n",
            "\tCurrently in batch number 640 of 2000\n",
            "\tCurrently in batch number 660 of 2000\n",
            "\tCurrently in batch number 680 of 2000\n",
            "\tCurrently in batch number 700 of 2000\n",
            "\tCurrently in batch number 720 of 2000\n",
            "\tCurrently in batch number 740 of 2000\n",
            "\tCurrently in batch number 760 of 2000\n",
            "\tCurrently in batch number 780 of 2000\n",
            "\tCurrently in batch number 800 of 2000\n",
            "\tCurrently in batch number 820 of 2000\n",
            "\tCurrently in batch number 840 of 2000\n",
            "\tCurrently in batch number 860 of 2000\n",
            "\tCurrently in batch number 880 of 2000\n",
            "\tCurrently in batch number 900 of 2000\n",
            "\tCurrently in batch number 920 of 2000\n",
            "\tCurrently in batch number 940 of 2000\n",
            "\tCurrently in batch number 960 of 2000\n",
            "\tCurrently in batch number 980 of 2000\n",
            "\tCurrently in batch number 1000 of 2000\n",
            "\tCurrently in batch number 1020 of 2000\n",
            "\tCurrently in batch number 1040 of 2000\n",
            "\tCurrently in batch number 1060 of 2000\n",
            "\tCurrently in batch number 1080 of 2000\n",
            "\tCurrently in batch number 1100 of 2000\n",
            "\tCurrently in batch number 1120 of 2000\n",
            "\tCurrently in batch number 1140 of 2000\n",
            "\tCurrently in batch number 1160 of 2000\n",
            "\tCurrently in batch number 1180 of 2000\n",
            "\tCurrently in batch number 1200 of 2000\n",
            "\tCurrently in batch number 1220 of 2000\n",
            "\tCurrently in batch number 1240 of 2000\n",
            "\tCurrently in batch number 1260 of 2000\n",
            "\tCurrently in batch number 1280 of 2000\n",
            "\tCurrently in batch number 1300 of 2000\n",
            "\tCurrently in batch number 1320 of 2000\n",
            "\tCurrently in batch number 1340 of 2000\n",
            "\tCurrently in batch number 1360 of 2000\n",
            "\tCurrently in batch number 1380 of 2000\n",
            "\tCurrently in batch number 1400 of 2000\n",
            "\tCurrently in batch number 1420 of 2000\n",
            "\tCurrently in batch number 1440 of 2000\n",
            "\tCurrently in batch number 1460 of 2000\n",
            "\tCurrently in batch number 1480 of 2000\n",
            "\tCurrently in batch number 1500 of 2000\n",
            "\tCurrently in batch number 1520 of 2000\n",
            "\tCurrently in batch number 1540 of 2000\n",
            "\tCurrently in batch number 1560 of 2000\n",
            "\tCurrently in batch number 1580 of 2000\n",
            "\tCurrently in batch number 1600 of 2000\n",
            "\tCurrently in batch number 1620 of 2000\n",
            "\tCurrently in batch number 1640 of 2000\n",
            "\tCurrently in batch number 1660 of 2000\n",
            "\tCurrently in batch number 1680 of 2000\n",
            "\tCurrently in batch number 1700 of 2000\n",
            "\tCurrently in batch number 1720 of 2000\n",
            "\tCurrently in batch number 1740 of 2000\n",
            "\tCurrently in batch number 1760 of 2000\n",
            "\tCurrently in batch number 1780 of 2000\n",
            "\tCurrently in batch number 1800 of 2000\n",
            "\tCurrently in batch number 1820 of 2000\n",
            "\tCurrently in batch number 1840 of 2000\n",
            "\tCurrently in batch number 1860 of 2000\n",
            "\tCurrently in batch number 1880 of 2000\n",
            "\tCurrently in batch number 1900 of 2000\n",
            "\tCurrently in batch number 1920 of 2000\n",
            "\tCurrently in batch number 1940 of 2000\n",
            "\tCurrently in batch number 1960 of 2000\n",
            "\tCurrently in batch number 1980 of 2000\n",
            "\tCurrently in batch number 2000 of 2000\n",
            "I am currently in epoch number :1\n",
            "\tCurrently in batch number 20 of 2000\n",
            "\tCurrently in batch number 40 of 2000\n",
            "\tCurrently in batch number 60 of 2000\n",
            "\tCurrently in batch number 80 of 2000\n",
            "\tCurrently in batch number 100 of 2000\n",
            "\tCurrently in batch number 120 of 2000\n",
            "\tCurrently in batch number 140 of 2000\n",
            "\tCurrently in batch number 160 of 2000\n",
            "\tCurrently in batch number 180 of 2000\n",
            "\tCurrently in batch number 200 of 2000\n",
            "\tCurrently in batch number 220 of 2000\n",
            "\tCurrently in batch number 240 of 2000\n",
            "\tCurrently in batch number 260 of 2000\n",
            "\tCurrently in batch number 280 of 2000\n",
            "\tCurrently in batch number 300 of 2000\n",
            "\tCurrently in batch number 320 of 2000\n",
            "\tCurrently in batch number 340 of 2000\n",
            "\tCurrently in batch number 360 of 2000\n",
            "\tCurrently in batch number 380 of 2000\n",
            "\tCurrently in batch number 400 of 2000\n",
            "\tCurrently in batch number 420 of 2000\n",
            "\tCurrently in batch number 440 of 2000\n",
            "\tCurrently in batch number 460 of 2000\n",
            "\tCurrently in batch number 480 of 2000\n",
            "\tCurrently in batch number 500 of 2000\n",
            "\tCurrently in batch number 520 of 2000\n",
            "\tCurrently in batch number 540 of 2000\n",
            "\tCurrently in batch number 560 of 2000\n",
            "\tCurrently in batch number 580 of 2000\n",
            "\tCurrently in batch number 600 of 2000\n",
            "\tCurrently in batch number 620 of 2000\n",
            "\tCurrently in batch number 640 of 2000\n",
            "\tCurrently in batch number 660 of 2000\n",
            "\tCurrently in batch number 680 of 2000\n",
            "\tCurrently in batch number 700 of 2000\n",
            "\tCurrently in batch number 720 of 2000\n",
            "\tCurrently in batch number 740 of 2000\n",
            "\tCurrently in batch number 760 of 2000\n",
            "\tCurrently in batch number 780 of 2000\n",
            "\tCurrently in batch number 800 of 2000\n",
            "\tCurrently in batch number 820 of 2000\n",
            "\tCurrently in batch number 840 of 2000\n",
            "\tCurrently in batch number 860 of 2000\n",
            "\tCurrently in batch number 880 of 2000\n",
            "\tCurrently in batch number 900 of 2000\n",
            "\tCurrently in batch number 920 of 2000\n",
            "\tCurrently in batch number 940 of 2000\n",
            "\tCurrently in batch number 960 of 2000\n",
            "\tCurrently in batch number 980 of 2000\n",
            "\tCurrently in batch number 1000 of 2000\n",
            "\tCurrently in batch number 1020 of 2000\n",
            "\tCurrently in batch number 1040 of 2000\n",
            "\tCurrently in batch number 1060 of 2000\n",
            "\tCurrently in batch number 1080 of 2000\n",
            "\tCurrently in batch number 1100 of 2000\n",
            "\tCurrently in batch number 1120 of 2000\n",
            "\tCurrently in batch number 1140 of 2000\n",
            "\tCurrently in batch number 1160 of 2000\n",
            "\tCurrently in batch number 1180 of 2000\n",
            "\tCurrently in batch number 1200 of 2000\n",
            "\tCurrently in batch number 1220 of 2000\n",
            "\tCurrently in batch number 1240 of 2000\n",
            "\tCurrently in batch number 1260 of 2000\n",
            "\tCurrently in batch number 1280 of 2000\n",
            "\tCurrently in batch number 1300 of 2000\n",
            "\tCurrently in batch number 1320 of 2000\n",
            "\tCurrently in batch number 1340 of 2000\n",
            "\tCurrently in batch number 1360 of 2000\n",
            "\tCurrently in batch number 1380 of 2000\n",
            "\tCurrently in batch number 1400 of 2000\n",
            "\tCurrently in batch number 1420 of 2000\n",
            "\tCurrently in batch number 1440 of 2000\n",
            "\tCurrently in batch number 1460 of 2000\n",
            "\tCurrently in batch number 1480 of 2000\n",
            "\tCurrently in batch number 1500 of 2000\n",
            "\tCurrently in batch number 1520 of 2000\n",
            "\tCurrently in batch number 1540 of 2000\n",
            "\tCurrently in batch number 1560 of 2000\n",
            "\tCurrently in batch number 1580 of 2000\n",
            "\tCurrently in batch number 1600 of 2000\n",
            "\tCurrently in batch number 1620 of 2000\n",
            "\tCurrently in batch number 1640 of 2000\n",
            "\tCurrently in batch number 1660 of 2000\n",
            "\tCurrently in batch number 1680 of 2000\n",
            "\tCurrently in batch number 1700 of 2000\n",
            "\tCurrently in batch number 1720 of 2000\n",
            "\tCurrently in batch number 1740 of 2000\n",
            "\tCurrently in batch number 1760 of 2000\n",
            "\tCurrently in batch number 1780 of 2000\n",
            "\tCurrently in batch number 1800 of 2000\n",
            "\tCurrently in batch number 1820 of 2000\n",
            "\tCurrently in batch number 1840 of 2000\n",
            "\tCurrently in batch number 1860 of 2000\n",
            "\tCurrently in batch number 1880 of 2000\n",
            "\tCurrently in batch number 1900 of 2000\n",
            "\tCurrently in batch number 1920 of 2000\n",
            "\tCurrently in batch number 1940 of 2000\n",
            "\tCurrently in batch number 1960 of 2000\n",
            "\tCurrently in batch number 1980 of 2000\n",
            "\tCurrently in batch number 2000 of 2000\n",
            "Training Complete\n"
          ],
          "name": "stdout"
        }
      ]
    },
    {
      "cell_type": "markdown",
      "metadata": {
        "id": "QRROuzAVwn4R"
      },
      "source": [
        "### Testing the GAN with some random noise"
      ]
    },
    {
      "cell_type": "code",
      "metadata": {
        "id": "IKGx5p2Pwn4T",
        "outputId": "bec48e96-4a5f-44a7-e159-738718559007"
      },
      "source": [
        "noise = tf.random.normal(shape=[5, random_noise_size])# Using 5 images\n",
        "img=generator(noise)\n",
        "for im in img:\n",
        "    plt.imshow(im.numpy().reshape(28,28))\n",
        "    plt.show()"
      ],
      "execution_count": null,
      "outputs": [
        {
          "output_type": "display_data",
          "data": {
            "text/plain": [
              "<Figure size 432x288 with 1 Axes>"
            ],
            "image/svg+xml": "<?xml version=\"1.0\" encoding=\"utf-8\" standalone=\"no\"?>\r\n<!DOCTYPE svg PUBLIC \"-//W3C//DTD SVG 1.1//EN\"\r\n  \"http://www.w3.org/Graphics/SVG/1.1/DTD/svg11.dtd\">\r\n<!-- Created with matplotlib (https://matplotlib.org/) -->\r\n<svg height=\"248.518125pt\" version=\"1.1\" viewBox=\"0 0 251.565 248.518125\" width=\"251.565pt\" xmlns=\"http://www.w3.org/2000/svg\" xmlns:xlink=\"http://www.w3.org/1999/xlink\">\r\n <defs>\r\n  <style type=\"text/css\">\r\n*{stroke-linecap:butt;stroke-linejoin:round;}\r\n  </style>\r\n </defs>\r\n <g id=\"figure_1\">\r\n  <g id=\"patch_1\">\r\n   <path d=\"M 0 248.518125 \r\nL 251.565 248.518125 \r\nL 251.565 0 \r\nL 0 0 \r\nz\r\n\" style=\"fill:none;\"/>\r\n  </g>\r\n  <g id=\"axes_1\">\r\n   <g id=\"patch_2\">\r\n    <path d=\"M 26.925 224.64 \r\nL 244.365 224.64 \r\nL 244.365 7.2 \r\nL 26.925 7.2 \r\nz\r\n\" style=\"fill:#ffffff;\"/>\r\n   </g>\r\n   <g clip-path=\"url(#p259c44204f)\">\r\n    <image height=\"218\" id=\"imaged9abc3cb51\" transform=\"scale(1 -1)translate(0 -218)\" width=\"218\" x=\"26.925\" xlink:href=\"data:image/png;base64,\r\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\" y=\"-6.64\"/>\r\n   </g>\r\n   <g id=\"matplotlib.axis_1\">\r\n    <g id=\"xtick_1\">\r\n     <g id=\"line2d_1\">\r\n      <defs>\r\n       <path d=\"M 0 0 \r\nL 0 3.5 \r\n\" id=\"m23a7065dea\" style=\"stroke:#000000;stroke-width:0.8;\"/>\r\n      </defs>\r\n      <g>\r\n       <use style=\"stroke:#000000;stroke-width:0.8;\" x=\"30.807857\" xlink:href=\"#m23a7065dea\" y=\"224.64\"/>\r\n      </g>\r\n     </g>\r\n     <g id=\"text_1\">\r\n      <!-- 0 -->\r\n      <defs>\r\n       <path d=\"M 31.78125 66.40625 \r\nQ 24.171875 66.40625 20.328125 58.90625 \r\nQ 16.5 51.421875 16.5 36.375 \r\nQ 16.5 21.390625 20.328125 13.890625 \r\nQ 24.171875 6.390625 31.78125 6.390625 \r\nQ 39.453125 6.390625 43.28125 13.890625 \r\nQ 47.125 21.390625 47.125 36.375 \r\nQ 47.125 51.421875 43.28125 58.90625 \r\nQ 39.453125 66.40625 31.78125 66.40625 \r\nz\r\nM 31.78125 74.21875 \r\nQ 44.046875 74.21875 50.515625 64.515625 \r\nQ 56.984375 54.828125 56.984375 36.375 \r\nQ 56.984375 17.96875 50.515625 8.265625 \r\nQ 44.046875 -1.421875 31.78125 -1.421875 \r\nQ 19.53125 -1.421875 13.0625 8.265625 \r\nQ 6.59375 17.96875 6.59375 36.375 \r\nQ 6.59375 54.828125 13.0625 64.515625 \r\nQ 19.53125 74.21875 31.78125 74.21875 \r\nz\r\n\" id=\"DejaVuSans-48\"/>\r\n      </defs>\r\n      <g transform=\"translate(27.626607 239.238437)scale(0.1 -0.1)\">\r\n       <use xlink:href=\"#DejaVuSans-48\"/>\r\n      </g>\r\n     </g>\r\n    </g>\r\n    <g id=\"xtick_2\">\r\n     <g id=\"line2d_2\">\r\n      <g>\r\n       <use style=\"stroke:#000000;stroke-width:0.8;\" x=\"69.636429\" xlink:href=\"#m23a7065dea\" y=\"224.64\"/>\r\n      </g>\r\n     </g>\r\n     <g id=\"text_2\">\r\n      <!-- 5 -->\r\n      <defs>\r\n       <path d=\"M 10.796875 72.90625 \r\nL 49.515625 72.90625 \r\nL 49.515625 64.59375 \r\nL 19.828125 64.59375 \r\nL 19.828125 46.734375 \r\nQ 21.96875 47.46875 24.109375 47.828125 \r\nQ 26.265625 48.1875 28.421875 48.1875 \r\nQ 40.625 48.1875 47.75 41.5 \r\nQ 54.890625 34.8125 54.890625 23.390625 \r\nQ 54.890625 11.625 47.5625 5.09375 \r\nQ 40.234375 -1.421875 26.90625 -1.421875 \r\nQ 22.3125 -1.421875 17.546875 -0.640625 \r\nQ 12.796875 0.140625 7.71875 1.703125 \r\nL 7.71875 11.625 \r\nQ 12.109375 9.234375 16.796875 8.0625 \r\nQ 21.484375 6.890625 26.703125 6.890625 \r\nQ 35.15625 6.890625 40.078125 11.328125 \r\nQ 45.015625 15.765625 45.015625 23.390625 \r\nQ 45.015625 31 40.078125 35.4375 \r\nQ 35.15625 39.890625 26.703125 39.890625 \r\nQ 22.75 39.890625 18.8125 39.015625 \r\nQ 14.890625 38.140625 10.796875 36.28125 \r\nz\r\n\" id=\"DejaVuSans-53\"/>\r\n      </defs>\r\n      <g transform=\"translate(66.455179 239.238437)scale(0.1 -0.1)\">\r\n       <use xlink:href=\"#DejaVuSans-53\"/>\r\n      </g>\r\n     </g>\r\n    </g>\r\n    <g id=\"xtick_3\">\r\n     <g id=\"line2d_3\">\r\n      <g>\r\n       <use style=\"stroke:#000000;stroke-width:0.8;\" x=\"108.465\" xlink:href=\"#m23a7065dea\" y=\"224.64\"/>\r\n      </g>\r\n     </g>\r\n     <g id=\"text_3\">\r\n      <!-- 10 -->\r\n      <defs>\r\n       <path d=\"M 12.40625 8.296875 \r\nL 28.515625 8.296875 \r\nL 28.515625 63.921875 \r\nL 10.984375 60.40625 \r\nL 10.984375 69.390625 \r\nL 28.421875 72.90625 \r\nL 38.28125 72.90625 \r\nL 38.28125 8.296875 \r\nL 54.390625 8.296875 \r\nL 54.390625 0 \r\nL 12.40625 0 \r\nz\r\n\" id=\"DejaVuSans-49\"/>\r\n      </defs>\r\n      <g transform=\"translate(102.1025 239.238437)scale(0.1 -0.1)\">\r\n       <use xlink:href=\"#DejaVuSans-49\"/>\r\n       <use x=\"63.623047\" xlink:href=\"#DejaVuSans-48\"/>\r\n      </g>\r\n     </g>\r\n    </g>\r\n    <g id=\"xtick_4\">\r\n     <g id=\"line2d_4\">\r\n      <g>\r\n       <use style=\"stroke:#000000;stroke-width:0.8;\" x=\"147.293571\" xlink:href=\"#m23a7065dea\" y=\"224.64\"/>\r\n      </g>\r\n     </g>\r\n     <g id=\"text_4\">\r\n      <!-- 15 -->\r\n      <g transform=\"translate(140.931071 239.238437)scale(0.1 -0.1)\">\r\n       <use xlink:href=\"#DejaVuSans-49\"/>\r\n       <use x=\"63.623047\" xlink:href=\"#DejaVuSans-53\"/>\r\n      </g>\r\n     </g>\r\n    </g>\r\n    <g id=\"xtick_5\">\r\n     <g id=\"line2d_5\">\r\n      <g>\r\n       <use style=\"stroke:#000000;stroke-width:0.8;\" x=\"186.122143\" xlink:href=\"#m23a7065dea\" y=\"224.64\"/>\r\n      </g>\r\n     </g>\r\n     <g id=\"text_5\">\r\n      <!-- 20 -->\r\n      <defs>\r\n       <path d=\"M 19.1875 8.296875 \r\nL 53.609375 8.296875 \r\nL 53.609375 0 \r\nL 7.328125 0 \r\nL 7.328125 8.296875 \r\nQ 12.9375 14.109375 22.625 23.890625 \r\nQ 32.328125 33.6875 34.8125 36.53125 \r\nQ 39.546875 41.84375 41.421875 45.53125 \r\nQ 43.3125 49.21875 43.3125 52.78125 \r\nQ 43.3125 58.59375 39.234375 62.25 \r\nQ 35.15625 65.921875 28.609375 65.921875 \r\nQ 23.96875 65.921875 18.8125 64.3125 \r\nQ 13.671875 62.703125 7.8125 59.421875 \r\nL 7.8125 69.390625 \r\nQ 13.765625 71.78125 18.9375 73 \r\nQ 24.125 74.21875 28.421875 74.21875 \r\nQ 39.75 74.21875 46.484375 68.546875 \r\nQ 53.21875 62.890625 53.21875 53.421875 \r\nQ 53.21875 48.921875 51.53125 44.890625 \r\nQ 49.859375 40.875 45.40625 35.40625 \r\nQ 44.1875 33.984375 37.640625 27.21875 \r\nQ 31.109375 20.453125 19.1875 8.296875 \r\nz\r\n\" id=\"DejaVuSans-50\"/>\r\n      </defs>\r\n      <g transform=\"translate(179.759643 239.238437)scale(0.1 -0.1)\">\r\n       <use xlink:href=\"#DejaVuSans-50\"/>\r\n       <use x=\"63.623047\" xlink:href=\"#DejaVuSans-48\"/>\r\n      </g>\r\n     </g>\r\n    </g>\r\n    <g id=\"xtick_6\">\r\n     <g id=\"line2d_6\">\r\n      <g>\r\n       <use style=\"stroke:#000000;stroke-width:0.8;\" x=\"224.950714\" xlink:href=\"#m23a7065dea\" y=\"224.64\"/>\r\n      </g>\r\n     </g>\r\n     <g id=\"text_6\">\r\n      <!-- 25 -->\r\n      <g transform=\"translate(218.588214 239.238437)scale(0.1 -0.1)\">\r\n       <use xlink:href=\"#DejaVuSans-50\"/>\r\n       <use x=\"63.623047\" xlink:href=\"#DejaVuSans-53\"/>\r\n      </g>\r\n     </g>\r\n    </g>\r\n   </g>\r\n   <g id=\"matplotlib.axis_2\">\r\n    <g id=\"ytick_1\">\r\n     <g id=\"line2d_7\">\r\n      <defs>\r\n       <path d=\"M 0 0 \r\nL -3.5 0 \r\n\" id=\"me68f165e5c\" style=\"stroke:#000000;stroke-width:0.8;\"/>\r\n      </defs>\r\n      <g>\r\n       <use style=\"stroke:#000000;stroke-width:0.8;\" x=\"26.925\" xlink:href=\"#me68f165e5c\" y=\"11.082857\"/>\r\n      </g>\r\n     </g>\r\n     <g id=\"text_7\">\r\n      <!-- 0 -->\r\n      <g transform=\"translate(13.5625 14.882076)scale(0.1 -0.1)\">\r\n       <use xlink:href=\"#DejaVuSans-48\"/>\r\n      </g>\r\n     </g>\r\n    </g>\r\n    <g id=\"ytick_2\">\r\n     <g id=\"line2d_8\">\r\n      <g>\r\n       <use style=\"stroke:#000000;stroke-width:0.8;\" x=\"26.925\" xlink:href=\"#me68f165e5c\" y=\"49.911429\"/>\r\n      </g>\r\n     </g>\r\n     <g id=\"text_8\">\r\n      <!-- 5 -->\r\n      <g transform=\"translate(13.5625 53.710647)scale(0.1 -0.1)\">\r\n       <use xlink:href=\"#DejaVuSans-53\"/>\r\n      </g>\r\n     </g>\r\n    </g>\r\n    <g id=\"ytick_3\">\r\n     <g id=\"line2d_9\">\r\n      <g>\r\n       <use style=\"stroke:#000000;stroke-width:0.8;\" x=\"26.925\" xlink:href=\"#me68f165e5c\" y=\"88.74\"/>\r\n      </g>\r\n     </g>\r\n     <g id=\"text_9\">\r\n      <!-- 10 -->\r\n      <g transform=\"translate(7.2 92.539219)scale(0.1 -0.1)\">\r\n       <use xlink:href=\"#DejaVuSans-49\"/>\r\n       <use x=\"63.623047\" xlink:href=\"#DejaVuSans-48\"/>\r\n      </g>\r\n     </g>\r\n    </g>\r\n    <g id=\"ytick_4\">\r\n     <g id=\"line2d_10\">\r\n      <g>\r\n       <use style=\"stroke:#000000;stroke-width:0.8;\" x=\"26.925\" xlink:href=\"#me68f165e5c\" y=\"127.568571\"/>\r\n      </g>\r\n     </g>\r\n     <g id=\"text_10\">\r\n      <!-- 15 -->\r\n      <g transform=\"translate(7.2 131.36779)scale(0.1 -0.1)\">\r\n       <use xlink:href=\"#DejaVuSans-49\"/>\r\n       <use x=\"63.623047\" xlink:href=\"#DejaVuSans-53\"/>\r\n      </g>\r\n     </g>\r\n    </g>\r\n    <g id=\"ytick_5\">\r\n     <g id=\"line2d_11\">\r\n      <g>\r\n       <use style=\"stroke:#000000;stroke-width:0.8;\" x=\"26.925\" xlink:href=\"#me68f165e5c\" y=\"166.397143\"/>\r\n      </g>\r\n     </g>\r\n     <g id=\"text_11\">\r\n      <!-- 20 -->\r\n      <g transform=\"translate(7.2 170.196362)scale(0.1 -0.1)\">\r\n       <use xlink:href=\"#DejaVuSans-50\"/>\r\n       <use x=\"63.623047\" xlink:href=\"#DejaVuSans-48\"/>\r\n      </g>\r\n     </g>\r\n    </g>\r\n    <g id=\"ytick_6\">\r\n     <g id=\"line2d_12\">\r\n      <g>\r\n       <use style=\"stroke:#000000;stroke-width:0.8;\" x=\"26.925\" xlink:href=\"#me68f165e5c\" y=\"205.225714\"/>\r\n      </g>\r\n     </g>\r\n     <g id=\"text_12\">\r\n      <!-- 25 -->\r\n      <g transform=\"translate(7.2 209.024933)scale(0.1 -0.1)\">\r\n       <use xlink:href=\"#DejaVuSans-50\"/>\r\n       <use x=\"63.623047\" xlink:href=\"#DejaVuSans-53\"/>\r\n      </g>\r\n     </g>\r\n    </g>\r\n   </g>\r\n   <g id=\"patch_3\">\r\n    <path d=\"M 26.925 224.64 \r\nL 26.925 7.2 \r\n\" style=\"fill:none;stroke:#000000;stroke-linecap:square;stroke-linejoin:miter;stroke-width:0.8;\"/>\r\n   </g>\r\n   <g id=\"patch_4\">\r\n    <path d=\"M 244.365 224.64 \r\nL 244.365 7.2 \r\n\" style=\"fill:none;stroke:#000000;stroke-linecap:square;stroke-linejoin:miter;stroke-width:0.8;\"/>\r\n   </g>\r\n   <g id=\"patch_5\">\r\n    <path d=\"M 26.925 224.64 \r\nL 244.365 224.64 \r\n\" style=\"fill:none;stroke:#000000;stroke-linecap:square;stroke-linejoin:miter;stroke-width:0.8;\"/>\r\n   </g>\r\n   <g id=\"patch_6\">\r\n    <path d=\"M 26.925 7.2 \r\nL 244.365 7.2 \r\n\" style=\"fill:none;stroke:#000000;stroke-linecap:square;stroke-linejoin:miter;stroke-width:0.8;\"/>\r\n   </g>\r\n  </g>\r\n </g>\r\n <defs>\r\n  <clipPath id=\"p259c44204f\">\r\n   <rect height=\"217.44\" width=\"217.44\" x=\"26.925\" y=\"7.2\"/>\r\n  </clipPath>\r\n </defs>\r\n</svg>\r\n",
            "image/png": "[encoded data removed]"
          },
          "metadata": {
            "tags": [],
            "needs_background": "light"
          }
        },
        {
          "output_type": "display_data",
          "data": {
            "text/plain": [
              "<Figure size 432x288 with 1 Axes>"
            ],
            "image/svg+xml": "<?xml version=\"1.0\" encoding=\"utf-8\" standalone=\"no\"?>\r\n<!DOCTYPE svg PUBLIC \"-//W3C//DTD SVG 1.1//EN\"\r\n  \"http://www.w3.org/Graphics/SVG/1.1/DTD/svg11.dtd\">\r\n<!-- Created with matplotlib (https://matplotlib.org/) -->\r\n<svg height=\"248.518125pt\" version=\"1.1\" viewBox=\"0 0 251.565 248.518125\" width=\"251.565pt\" xmlns=\"http://www.w3.org/2000/svg\" xmlns:xlink=\"http://www.w3.org/1999/xlink\">\r\n <defs>\r\n  <style type=\"text/css\">\r\n*{stroke-linecap:butt;stroke-linejoin:round;}\r\n  </style>\r\n </defs>\r\n <g id=\"figure_1\">\r\n  <g id=\"patch_1\">\r\n   <path d=\"M 0 248.518125 \r\nL 251.565 248.518125 \r\nL 251.565 0 \r\nL 0 0 \r\nz\r\n\" style=\"fill:none;\"/>\r\n  </g>\r\n  <g id=\"axes_1\">\r\n   <g id=\"patch_2\">\r\n    <path d=\"M 26.925 224.64 \r\nL 244.365 224.64 \r\nL 244.365 7.2 \r\nL 26.925 7.2 \r\nz\r\n\" style=\"fill:#ffffff;\"/>\r\n   </g>\r\n   <g clip-path=\"url(#p1003d6fb7c)\">\r\n    <image height=\"218\" id=\"image4977e09529\" transform=\"scale(1 -1)translate(0 -218)\" width=\"218\" x=\"26.925\" xlink:href=\"data:image/png;base64,\r\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\" y=\"-6.64\"/>\r\n   </g>\r\n   <g id=\"matplotlib.axis_1\">\r\n    <g id=\"xtick_1\">\r\n     <g id=\"line2d_1\">\r\n      <defs>\r\n       <path d=\"M 0 0 \r\nL 0 3.5 \r\n\" id=\"mf390bf0e87\" style=\"stroke:#000000;stroke-width:0.8;\"/>\r\n      </defs>\r\n      <g>\r\n       <use style=\"stroke:#000000;stroke-width:0.8;\" x=\"30.807857\" xlink:href=\"#mf390bf0e87\" y=\"224.64\"/>\r\n      </g>\r\n     </g>\r\n     <g id=\"text_1\">\r\n      <!-- 0 -->\r\n      <defs>\r\n       <path d=\"M 31.78125 66.40625 \r\nQ 24.171875 66.40625 20.328125 58.90625 \r\nQ 16.5 51.421875 16.5 36.375 \r\nQ 16.5 21.390625 20.328125 13.890625 \r\nQ 24.171875 6.390625 31.78125 6.390625 \r\nQ 39.453125 6.390625 43.28125 13.890625 \r\nQ 47.125 21.390625 47.125 36.375 \r\nQ 47.125 51.421875 43.28125 58.90625 \r\nQ 39.453125 66.40625 31.78125 66.40625 \r\nz\r\nM 31.78125 74.21875 \r\nQ 44.046875 74.21875 50.515625 64.515625 \r\nQ 56.984375 54.828125 56.984375 36.375 \r\nQ 56.984375 17.96875 50.515625 8.265625 \r\nQ 44.046875 -1.421875 31.78125 -1.421875 \r\nQ 19.53125 -1.421875 13.0625 8.265625 \r\nQ 6.59375 17.96875 6.59375 36.375 \r\nQ 6.59375 54.828125 13.0625 64.515625 \r\nQ 19.53125 74.21875 31.78125 74.21875 \r\nz\r\n\" id=\"DejaVuSans-48\"/>\r\n      </defs>\r\n      <g transform=\"translate(27.626607 239.238437)scale(0.1 -0.1)\">\r\n       <use xlink:href=\"#DejaVuSans-48\"/>\r\n      </g>\r\n     </g>\r\n    </g>\r\n    <g id=\"xtick_2\">\r\n     <g id=\"line2d_2\">\r\n      <g>\r\n       <use style=\"stroke:#000000;stroke-width:0.8;\" x=\"69.636429\" xlink:href=\"#mf390bf0e87\" y=\"224.64\"/>\r\n      </g>\r\n     </g>\r\n     <g id=\"text_2\">\r\n      <!-- 5 -->\r\n      <defs>\r\n       <path d=\"M 10.796875 72.90625 \r\nL 49.515625 72.90625 \r\nL 49.515625 64.59375 \r\nL 19.828125 64.59375 \r\nL 19.828125 46.734375 \r\nQ 21.96875 47.46875 24.109375 47.828125 \r\nQ 26.265625 48.1875 28.421875 48.1875 \r\nQ 40.625 48.1875 47.75 41.5 \r\nQ 54.890625 34.8125 54.890625 23.390625 \r\nQ 54.890625 11.625 47.5625 5.09375 \r\nQ 40.234375 -1.421875 26.90625 -1.421875 \r\nQ 22.3125 -1.421875 17.546875 -0.640625 \r\nQ 12.796875 0.140625 7.71875 1.703125 \r\nL 7.71875 11.625 \r\nQ 12.109375 9.234375 16.796875 8.0625 \r\nQ 21.484375 6.890625 26.703125 6.890625 \r\nQ 35.15625 6.890625 40.078125 11.328125 \r\nQ 45.015625 15.765625 45.015625 23.390625 \r\nQ 45.015625 31 40.078125 35.4375 \r\nQ 35.15625 39.890625 26.703125 39.890625 \r\nQ 22.75 39.890625 18.8125 39.015625 \r\nQ 14.890625 38.140625 10.796875 36.28125 \r\nz\r\n\" id=\"DejaVuSans-53\"/>\r\n      </defs>\r\n      <g transform=\"translate(66.455179 239.238437)scale(0.1 -0.1)\">\r\n       <use xlink:href=\"#DejaVuSans-53\"/>\r\n      </g>\r\n     </g>\r\n    </g>\r\n    <g id=\"xtick_3\">\r\n     <g id=\"line2d_3\">\r\n      <g>\r\n       <use style=\"stroke:#000000;stroke-width:0.8;\" x=\"108.465\" xlink:href=\"#mf390bf0e87\" y=\"224.64\"/>\r\n      </g>\r\n     </g>\r\n     <g id=\"text_3\">\r\n      <!-- 10 -->\r\n      <defs>\r\n       <path d=\"M 12.40625 8.296875 \r\nL 28.515625 8.296875 \r\nL 28.515625 63.921875 \r\nL 10.984375 60.40625 \r\nL 10.984375 69.390625 \r\nL 28.421875 72.90625 \r\nL 38.28125 72.90625 \r\nL 38.28125 8.296875 \r\nL 54.390625 8.296875 \r\nL 54.390625 0 \r\nL 12.40625 0 \r\nz\r\n\" id=\"DejaVuSans-49\"/>\r\n      </defs>\r\n      <g transform=\"translate(102.1025 239.238437)scale(0.1 -0.1)\">\r\n       <use xlink:href=\"#DejaVuSans-49\"/>\r\n       <use x=\"63.623047\" xlink:href=\"#DejaVuSans-48\"/>\r\n      </g>\r\n     </g>\r\n    </g>\r\n    <g id=\"xtick_4\">\r\n     <g id=\"line2d_4\">\r\n      <g>\r\n       <use style=\"stroke:#000000;stroke-width:0.8;\" x=\"147.293571\" xlink:href=\"#mf390bf0e87\" y=\"224.64\"/>\r\n      </g>\r\n     </g>\r\n     <g id=\"text_4\">\r\n      <!-- 15 -->\r\n      <g transform=\"translate(140.931071 239.238437)scale(0.1 -0.1)\">\r\n       <use xlink:href=\"#DejaVuSans-49\"/>\r\n       <use x=\"63.623047\" xlink:href=\"#DejaVuSans-53\"/>\r\n      </g>\r\n     </g>\r\n    </g>\r\n    <g id=\"xtick_5\">\r\n     <g id=\"line2d_5\">\r\n      <g>\r\n       <use style=\"stroke:#000000;stroke-width:0.8;\" x=\"186.122143\" xlink:href=\"#mf390bf0e87\" y=\"224.64\"/>\r\n      </g>\r\n     </g>\r\n     <g id=\"text_5\">\r\n      <!-- 20 -->\r\n      <defs>\r\n       <path d=\"M 19.1875 8.296875 \r\nL 53.609375 8.296875 \r\nL 53.609375 0 \r\nL 7.328125 0 \r\nL 7.328125 8.296875 \r\nQ 12.9375 14.109375 22.625 23.890625 \r\nQ 32.328125 33.6875 34.8125 36.53125 \r\nQ 39.546875 41.84375 41.421875 45.53125 \r\nQ 43.3125 49.21875 43.3125 52.78125 \r\nQ 43.3125 58.59375 39.234375 62.25 \r\nQ 35.15625 65.921875 28.609375 65.921875 \r\nQ 23.96875 65.921875 18.8125 64.3125 \r\nQ 13.671875 62.703125 7.8125 59.421875 \r\nL 7.8125 69.390625 \r\nQ 13.765625 71.78125 18.9375 73 \r\nQ 24.125 74.21875 28.421875 74.21875 \r\nQ 39.75 74.21875 46.484375 68.546875 \r\nQ 53.21875 62.890625 53.21875 53.421875 \r\nQ 53.21875 48.921875 51.53125 44.890625 \r\nQ 49.859375 40.875 45.40625 35.40625 \r\nQ 44.1875 33.984375 37.640625 27.21875 \r\nQ 31.109375 20.453125 19.1875 8.296875 \r\nz\r\n\" id=\"DejaVuSans-50\"/>\r\n      </defs>\r\n      <g transform=\"translate(179.759643 239.238437)scale(0.1 -0.1)\">\r\n       <use xlink:href=\"#DejaVuSans-50\"/>\r\n       <use x=\"63.623047\" xlink:href=\"#DejaVuSans-48\"/>\r\n      </g>\r\n     </g>\r\n    </g>\r\n    <g id=\"xtick_6\">\r\n     <g id=\"line2d_6\">\r\n      <g>\r\n       <use style=\"stroke:#000000;stroke-width:0.8;\" x=\"224.950714\" xlink:href=\"#mf390bf0e87\" y=\"224.64\"/>\r\n      </g>\r\n     </g>\r\n     <g id=\"text_6\">\r\n      <!-- 25 -->\r\n      <g transform=\"translate(218.588214 239.238437)scale(0.1 -0.1)\">\r\n       <use xlink:href=\"#DejaVuSans-50\"/>\r\n       <use x=\"63.623047\" xlink:href=\"#DejaVuSans-53\"/>\r\n      </g>\r\n     </g>\r\n    </g>\r\n   </g>\r\n   <g id=\"matplotlib.axis_2\">\r\n    <g id=\"ytick_1\">\r\n     <g id=\"line2d_7\">\r\n      <defs>\r\n       <path d=\"M 0 0 \r\nL -3.5 0 \r\n\" id=\"m0086f5f38d\" style=\"stroke:#000000;stroke-width:0.8;\"/>\r\n      </defs>\r\n      <g>\r\n       <use style=\"stroke:#000000;stroke-width:0.8;\" x=\"26.925\" xlink:href=\"#m0086f5f38d\" y=\"11.082857\"/>\r\n      </g>\r\n     </g>\r\n     <g id=\"text_7\">\r\n      <!-- 0 -->\r\n      <g transform=\"translate(13.5625 14.882076)scale(0.1 -0.1)\">\r\n       <use xlink:href=\"#DejaVuSans-48\"/>\r\n      </g>\r\n     </g>\r\n    </g>\r\n    <g id=\"ytick_2\">\r\n     <g id=\"line2d_8\">\r\n      <g>\r\n       <use style=\"stroke:#000000;stroke-width:0.8;\" x=\"26.925\" xlink:href=\"#m0086f5f38d\" y=\"49.911429\"/>\r\n      </g>\r\n     </g>\r\n     <g id=\"text_8\">\r\n      <!-- 5 -->\r\n      <g transform=\"translate(13.5625 53.710647)scale(0.1 -0.1)\">\r\n       <use xlink:href=\"#DejaVuSans-53\"/>\r\n      </g>\r\n     </g>\r\n    </g>\r\n    <g id=\"ytick_3\">\r\n     <g id=\"line2d_9\">\r\n      <g>\r\n       <use style=\"stroke:#000000;stroke-width:0.8;\" x=\"26.925\" xlink:href=\"#m0086f5f38d\" y=\"88.74\"/>\r\n      </g>\r\n     </g>\r\n     <g id=\"text_9\">\r\n      <!-- 10 -->\r\n      <g transform=\"translate(7.2 92.539219)scale(0.1 -0.1)\">\r\n       <use xlink:href=\"#DejaVuSans-49\"/>\r\n       <use x=\"63.623047\" xlink:href=\"#DejaVuSans-48\"/>\r\n      </g>\r\n     </g>\r\n    </g>\r\n    <g id=\"ytick_4\">\r\n     <g id=\"line2d_10\">\r\n      <g>\r\n       <use style=\"stroke:#000000;stroke-width:0.8;\" x=\"26.925\" xlink:href=\"#m0086f5f38d\" y=\"127.568571\"/>\r\n      </g>\r\n     </g>\r\n     <g id=\"text_10\">\r\n      <!-- 15 -->\r\n      <g transform=\"translate(7.2 131.36779)scale(0.1 -0.1)\">\r\n       <use xlink:href=\"#DejaVuSans-49\"/>\r\n       <use x=\"63.623047\" xlink:href=\"#DejaVuSans-53\"/>\r\n      </g>\r\n     </g>\r\n    </g>\r\n    <g id=\"ytick_5\">\r\n     <g id=\"line2d_11\">\r\n      <g>\r\n       <use style=\"stroke:#000000;stroke-width:0.8;\" x=\"26.925\" xlink:href=\"#m0086f5f38d\" y=\"166.397143\"/>\r\n      </g>\r\n     </g>\r\n     <g id=\"text_11\">\r\n      <!-- 20 -->\r\n      <g transform=\"translate(7.2 170.196362)scale(0.1 -0.1)\">\r\n       <use xlink:href=\"#DejaVuSans-50\"/>\r\n       <use x=\"63.623047\" xlink:href=\"#DejaVuSans-48\"/>\r\n      </g>\r\n     </g>\r\n    </g>\r\n    <g id=\"ytick_6\">\r\n     <g id=\"line2d_12\">\r\n      <g>\r\n       <use style=\"stroke:#000000;stroke-width:0.8;\" x=\"26.925\" xlink:href=\"#m0086f5f38d\" y=\"205.225714\"/>\r\n      </g>\r\n     </g>\r\n     <g id=\"text_12\">\r\n      <!-- 25 -->\r\n      <g transform=\"translate(7.2 209.024933)scale(0.1 -0.1)\">\r\n       <use xlink:href=\"#DejaVuSans-50\"/>\r\n       <use x=\"63.623047\" xlink:href=\"#DejaVuSans-53\"/>\r\n      </g>\r\n     </g>\r\n    </g>\r\n   </g>\r\n   <g id=\"patch_3\">\r\n    <path d=\"M 26.925 224.64 \r\nL 26.925 7.2 \r\n\" style=\"fill:none;stroke:#000000;stroke-linecap:square;stroke-linejoin:miter;stroke-width:0.8;\"/>\r\n   </g>\r\n   <g id=\"patch_4\">\r\n    <path d=\"M 244.365 224.64 \r\nL 244.365 7.2 \r\n\" style=\"fill:none;stroke:#000000;stroke-linecap:square;stroke-linejoin:miter;stroke-width:0.8;\"/>\r\n   </g>\r\n   <g id=\"patch_5\">\r\n    <path d=\"M 26.925 224.64 \r\nL 244.365 224.64 \r\n\" style=\"fill:none;stroke:#000000;stroke-linecap:square;stroke-linejoin:miter;stroke-width:0.8;\"/>\r\n   </g>\r\n   <g id=\"patch_6\">\r\n    <path d=\"M 26.925 7.2 \r\nL 244.365 7.2 \r\n\" style=\"fill:none;stroke:#000000;stroke-linecap:square;stroke-linejoin:miter;stroke-width:0.8;\"/>\r\n   </g>\r\n  </g>\r\n </g>\r\n <defs>\r\n  <clipPath id=\"p1003d6fb7c\">\r\n   <rect height=\"217.44\" width=\"217.44\" x=\"26.925\" y=\"7.2\"/>\r\n  </clipPath>\r\n </defs>\r\n</svg>\r\n",
            "image/png": "[encoded data removed]"
          },
          "metadata": {
            "tags": [],
            "needs_background": "light"
          }
        },
        {
          "output_type": "display_data",
          "data": {
            "text/plain": [
              "<Figure size 432x288 with 1 Axes>"
            ],
            "image/svg+xml": "<?xml version=\"1.0\" encoding=\"utf-8\" standalone=\"no\"?>\r\n<!DOCTYPE svg PUBLIC \"-//W3C//DTD SVG 1.1//EN\"\r\n  \"http://www.w3.org/Graphics/SVG/1.1/DTD/svg11.dtd\">\r\n<!-- Created with matplotlib (https://matplotlib.org/) -->\r\n<svg height=\"248.518125pt\" version=\"1.1\" viewBox=\"0 0 251.565 248.518125\" width=\"251.565pt\" xmlns=\"http://www.w3.org/2000/svg\" xmlns:xlink=\"http://www.w3.org/1999/xlink\">\r\n <defs>\r\n  <style type=\"text/css\">\r\n*{stroke-linecap:butt;stroke-linejoin:round;}\r\n  </style>\r\n </defs>\r\n <g id=\"figure_1\">\r\n  <g id=\"patch_1\">\r\n   <path d=\"M 0 248.518125 \r\nL 251.565 248.518125 \r\nL 251.565 0 \r\nL 0 0 \r\nz\r\n\" style=\"fill:none;\"/>\r\n  </g>\r\n  <g id=\"axes_1\">\r\n   <g id=\"patch_2\">\r\n    <path d=\"M 26.925 224.64 \r\nL 244.365 224.64 \r\nL 244.365 7.2 \r\nL 26.925 7.2 \r\nz\r\n\" style=\"fill:#ffffff;\"/>\r\n   </g>\r\n   <g clip-path=\"url(#p4043eb3dac)\">\r\n    <image height=\"218\" id=\"imagefe97008e1b\" transform=\"scale(1 -1)translate(0 -218)\" width=\"218\" x=\"26.925\" xlink:href=\"data:image/png;base64,\r\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\" y=\"-6.64\"/>\r\n   </g>\r\n   <g id=\"matplotlib.axis_1\">\r\n    <g id=\"xtick_1\">\r\n     <g id=\"line2d_1\">\r\n      <defs>\r\n       <path d=\"M 0 0 \r\nL 0 3.5 \r\n\" id=\"m4bf84b5080\" style=\"stroke:#000000;stroke-width:0.8;\"/>\r\n      </defs>\r\n      <g>\r\n       <use style=\"stroke:#000000;stroke-width:0.8;\" x=\"30.807857\" xlink:href=\"#m4bf84b5080\" y=\"224.64\"/>\r\n      </g>\r\n     </g>\r\n     <g id=\"text_1\">\r\n      <!-- 0 -->\r\n      <defs>\r\n       <path d=\"M 31.78125 66.40625 \r\nQ 24.171875 66.40625 20.328125 58.90625 \r\nQ 16.5 51.421875 16.5 36.375 \r\nQ 16.5 21.390625 20.328125 13.890625 \r\nQ 24.171875 6.390625 31.78125 6.390625 \r\nQ 39.453125 6.390625 43.28125 13.890625 \r\nQ 47.125 21.390625 47.125 36.375 \r\nQ 47.125 51.421875 43.28125 58.90625 \r\nQ 39.453125 66.40625 31.78125 66.40625 \r\nz\r\nM 31.78125 74.21875 \r\nQ 44.046875 74.21875 50.515625 64.515625 \r\nQ 56.984375 54.828125 56.984375 36.375 \r\nQ 56.984375 17.96875 50.515625 8.265625 \r\nQ 44.046875 -1.421875 31.78125 -1.421875 \r\nQ 19.53125 -1.421875 13.0625 8.265625 \r\nQ 6.59375 17.96875 6.59375 36.375 \r\nQ 6.59375 54.828125 13.0625 64.515625 \r\nQ 19.53125 74.21875 31.78125 74.21875 \r\nz\r\n\" id=\"DejaVuSans-48\"/>\r\n      </defs>\r\n      <g transform=\"translate(27.626607 239.238437)scale(0.1 -0.1)\">\r\n       <use xlink:href=\"#DejaVuSans-48\"/>\r\n      </g>\r\n     </g>\r\n    </g>\r\n    <g id=\"xtick_2\">\r\n     <g id=\"line2d_2\">\r\n      <g>\r\n       <use style=\"stroke:#000000;stroke-width:0.8;\" x=\"69.636429\" xlink:href=\"#m4bf84b5080\" y=\"224.64\"/>\r\n      </g>\r\n     </g>\r\n     <g id=\"text_2\">\r\n      <!-- 5 -->\r\n      <defs>\r\n       <path d=\"M 10.796875 72.90625 \r\nL 49.515625 72.90625 \r\nL 49.515625 64.59375 \r\nL 19.828125 64.59375 \r\nL 19.828125 46.734375 \r\nQ 21.96875 47.46875 24.109375 47.828125 \r\nQ 26.265625 48.1875 28.421875 48.1875 \r\nQ 40.625 48.1875 47.75 41.5 \r\nQ 54.890625 34.8125 54.890625 23.390625 \r\nQ 54.890625 11.625 47.5625 5.09375 \r\nQ 40.234375 -1.421875 26.90625 -1.421875 \r\nQ 22.3125 -1.421875 17.546875 -0.640625 \r\nQ 12.796875 0.140625 7.71875 1.703125 \r\nL 7.71875 11.625 \r\nQ 12.109375 9.234375 16.796875 8.0625 \r\nQ 21.484375 6.890625 26.703125 6.890625 \r\nQ 35.15625 6.890625 40.078125 11.328125 \r\nQ 45.015625 15.765625 45.015625 23.390625 \r\nQ 45.015625 31 40.078125 35.4375 \r\nQ 35.15625 39.890625 26.703125 39.890625 \r\nQ 22.75 39.890625 18.8125 39.015625 \r\nQ 14.890625 38.140625 10.796875 36.28125 \r\nz\r\n\" id=\"DejaVuSans-53\"/>\r\n      </defs>\r\n      <g transform=\"translate(66.455179 239.238437)scale(0.1 -0.1)\">\r\n       <use xlink:href=\"#DejaVuSans-53\"/>\r\n      </g>\r\n     </g>\r\n    </g>\r\n    <g id=\"xtick_3\">\r\n     <g id=\"line2d_3\">\r\n      <g>\r\n       <use style=\"stroke:#000000;stroke-width:0.8;\" x=\"108.465\" xlink:href=\"#m4bf84b5080\" y=\"224.64\"/>\r\n      </g>\r\n     </g>\r\n     <g id=\"text_3\">\r\n      <!-- 10 -->\r\n      <defs>\r\n       <path d=\"M 12.40625 8.296875 \r\nL 28.515625 8.296875 \r\nL 28.515625 63.921875 \r\nL 10.984375 60.40625 \r\nL 10.984375 69.390625 \r\nL 28.421875 72.90625 \r\nL 38.28125 72.90625 \r\nL 38.28125 8.296875 \r\nL 54.390625 8.296875 \r\nL 54.390625 0 \r\nL 12.40625 0 \r\nz\r\n\" id=\"DejaVuSans-49\"/>\r\n      </defs>\r\n      <g transform=\"translate(102.1025 239.238437)scale(0.1 -0.1)\">\r\n       <use xlink:href=\"#DejaVuSans-49\"/>\r\n       <use x=\"63.623047\" xlink:href=\"#DejaVuSans-48\"/>\r\n      </g>\r\n     </g>\r\n    </g>\r\n    <g id=\"xtick_4\">\r\n     <g id=\"line2d_4\">\r\n      <g>\r\n       <use style=\"stroke:#000000;stroke-width:0.8;\" x=\"147.293571\" xlink:href=\"#m4bf84b5080\" y=\"224.64\"/>\r\n      </g>\r\n     </g>\r\n     <g id=\"text_4\">\r\n      <!-- 15 -->\r\n      <g transform=\"translate(140.931071 239.238437)scale(0.1 -0.1)\">\r\n       <use xlink:href=\"#DejaVuSans-49\"/>\r\n       <use x=\"63.623047\" xlink:href=\"#DejaVuSans-53\"/>\r\n      </g>\r\n     </g>\r\n    </g>\r\n    <g id=\"xtick_5\">\r\n     <g id=\"line2d_5\">\r\n      <g>\r\n       <use style=\"stroke:#000000;stroke-width:0.8;\" x=\"186.122143\" xlink:href=\"#m4bf84b5080\" y=\"224.64\"/>\r\n      </g>\r\n     </g>\r\n     <g id=\"text_5\">\r\n      <!-- 20 -->\r\n      <defs>\r\n       <path d=\"M 19.1875 8.296875 \r\nL 53.609375 8.296875 \r\nL 53.609375 0 \r\nL 7.328125 0 \r\nL 7.328125 8.296875 \r\nQ 12.9375 14.109375 22.625 23.890625 \r\nQ 32.328125 33.6875 34.8125 36.53125 \r\nQ 39.546875 41.84375 41.421875 45.53125 \r\nQ 43.3125 49.21875 43.3125 52.78125 \r\nQ 43.3125 58.59375 39.234375 62.25 \r\nQ 35.15625 65.921875 28.609375 65.921875 \r\nQ 23.96875 65.921875 18.8125 64.3125 \r\nQ 13.671875 62.703125 7.8125 59.421875 \r\nL 7.8125 69.390625 \r\nQ 13.765625 71.78125 18.9375 73 \r\nQ 24.125 74.21875 28.421875 74.21875 \r\nQ 39.75 74.21875 46.484375 68.546875 \r\nQ 53.21875 62.890625 53.21875 53.421875 \r\nQ 53.21875 48.921875 51.53125 44.890625 \r\nQ 49.859375 40.875 45.40625 35.40625 \r\nQ 44.1875 33.984375 37.640625 27.21875 \r\nQ 31.109375 20.453125 19.1875 8.296875 \r\nz\r\n\" id=\"DejaVuSans-50\"/>\r\n      </defs>\r\n      <g transform=\"translate(179.759643 239.238437)scale(0.1 -0.1)\">\r\n       <use xlink:href=\"#DejaVuSans-50\"/>\r\n       <use x=\"63.623047\" xlink:href=\"#DejaVuSans-48\"/>\r\n      </g>\r\n     </g>\r\n    </g>\r\n    <g id=\"xtick_6\">\r\n     <g id=\"line2d_6\">\r\n      <g>\r\n       <use style=\"stroke:#000000;stroke-width:0.8;\" x=\"224.950714\" xlink:href=\"#m4bf84b5080\" y=\"224.64\"/>\r\n      </g>\r\n     </g>\r\n     <g id=\"text_6\">\r\n      <!-- 25 -->\r\n      <g transform=\"translate(218.588214 239.238437)scale(0.1 -0.1)\">\r\n       <use xlink:href=\"#DejaVuSans-50\"/>\r\n       <use x=\"63.623047\" xlink:href=\"#DejaVuSans-53\"/>\r\n      </g>\r\n     </g>\r\n    </g>\r\n   </g>\r\n   <g id=\"matplotlib.axis_2\">\r\n    <g id=\"ytick_1\">\r\n     <g id=\"line2d_7\">\r\n      <defs>\r\n       <path d=\"M 0 0 \r\nL -3.5 0 \r\n\" id=\"md857127edc\" style=\"stroke:#000000;stroke-width:0.8;\"/>\r\n      </defs>\r\n      <g>\r\n       <use style=\"stroke:#000000;stroke-width:0.8;\" x=\"26.925\" xlink:href=\"#md857127edc\" y=\"11.082857\"/>\r\n      </g>\r\n     </g>\r\n     <g id=\"text_7\">\r\n      <!-- 0 -->\r\n      <g transform=\"translate(13.5625 14.882076)scale(0.1 -0.1)\">\r\n       <use xlink:href=\"#DejaVuSans-48\"/>\r\n      </g>\r\n     </g>\r\n    </g>\r\n    <g id=\"ytick_2\">\r\n     <g id=\"line2d_8\">\r\n      <g>\r\n       <use style=\"stroke:#000000;stroke-width:0.8;\" x=\"26.925\" xlink:href=\"#md857127edc\" y=\"49.911429\"/>\r\n      </g>\r\n     </g>\r\n     <g id=\"text_8\">\r\n      <!-- 5 -->\r\n      <g transform=\"translate(13.5625 53.710647)scale(0.1 -0.1)\">\r\n       <use xlink:href=\"#DejaVuSans-53\"/>\r\n      </g>\r\n     </g>\r\n    </g>\r\n    <g id=\"ytick_3\">\r\n     <g id=\"line2d_9\">\r\n      <g>\r\n       <use style=\"stroke:#000000;stroke-width:0.8;\" x=\"26.925\" xlink:href=\"#md857127edc\" y=\"88.74\"/>\r\n      </g>\r\n     </g>\r\n     <g id=\"text_9\">\r\n      <!-- 10 -->\r\n      <g transform=\"translate(7.2 92.539219)scale(0.1 -0.1)\">\r\n       <use xlink:href=\"#DejaVuSans-49\"/>\r\n       <use x=\"63.623047\" xlink:href=\"#DejaVuSans-48\"/>\r\n      </g>\r\n     </g>\r\n    </g>\r\n    <g id=\"ytick_4\">\r\n     <g id=\"line2d_10\">\r\n      <g>\r\n       <use style=\"stroke:#000000;stroke-width:0.8;\" x=\"26.925\" xlink:href=\"#md857127edc\" y=\"127.568571\"/>\r\n      </g>\r\n     </g>\r\n     <g id=\"text_10\">\r\n      <!-- 15 -->\r\n      <g transform=\"translate(7.2 131.36779)scale(0.1 -0.1)\">\r\n       <use xlink:href=\"#DejaVuSans-49\"/>\r\n       <use x=\"63.623047\" xlink:href=\"#DejaVuSans-53\"/>\r\n      </g>\r\n     </g>\r\n    </g>\r\n    <g id=\"ytick_5\">\r\n     <g id=\"line2d_11\">\r\n      <g>\r\n       <use style=\"stroke:#000000;stroke-width:0.8;\" x=\"26.925\" xlink:href=\"#md857127edc\" y=\"166.397143\"/>\r\n      </g>\r\n     </g>\r\n     <g id=\"text_11\">\r\n      <!-- 20 -->\r\n      <g transform=\"translate(7.2 170.196362)scale(0.1 -0.1)\">\r\n       <use xlink:href=\"#DejaVuSans-50\"/>\r\n       <use x=\"63.623047\" xlink:href=\"#DejaVuSans-48\"/>\r\n      </g>\r\n     </g>\r\n    </g>\r\n    <g id=\"ytick_6\">\r\n     <g id=\"line2d_12\">\r\n      <g>\r\n       <use style=\"stroke:#000000;stroke-width:0.8;\" x=\"26.925\" xlink:href=\"#md857127edc\" y=\"205.225714\"/>\r\n      </g>\r\n     </g>\r\n     <g id=\"text_12\">\r\n      <!-- 25 -->\r\n      <g transform=\"translate(7.2 209.024933)scale(0.1 -0.1)\">\r\n       <use xlink:href=\"#DejaVuSans-50\"/>\r\n       <use x=\"63.623047\" xlink:href=\"#DejaVuSans-53\"/>\r\n      </g>\r\n     </g>\r\n    </g>\r\n   </g>\r\n   <g id=\"patch_3\">\r\n    <path d=\"M 26.925 224.64 \r\nL 26.925 7.2 \r\n\" style=\"fill:none;stroke:#000000;stroke-linecap:square;stroke-linejoin:miter;stroke-width:0.8;\"/>\r\n   </g>\r\n   <g id=\"patch_4\">\r\n    <path d=\"M 244.365 224.64 \r\nL 244.365 7.2 \r\n\" style=\"fill:none;stroke:#000000;stroke-linecap:square;stroke-linejoin:miter;stroke-width:0.8;\"/>\r\n   </g>\r\n   <g id=\"patch_5\">\r\n    <path d=\"M 26.925 224.64 \r\nL 244.365 224.64 \r\n\" style=\"fill:none;stroke:#000000;stroke-linecap:square;stroke-linejoin:miter;stroke-width:0.8;\"/>\r\n   </g>\r\n   <g id=\"patch_6\">\r\n    <path d=\"M 26.925 7.2 \r\nL 244.365 7.2 \r\n\" style=\"fill:none;stroke:#000000;stroke-linecap:square;stroke-linejoin:miter;stroke-width:0.8;\"/>\r\n   </g>\r\n  </g>\r\n </g>\r\n <defs>\r\n  <clipPath id=\"p4043eb3dac\">\r\n   <rect height=\"217.44\" width=\"217.44\" x=\"26.925\" y=\"7.2\"/>\r\n  </clipPath>\r\n </defs>\r\n</svg>\r\n",
            "image/png": "[encoded data removed]"
          },
          "metadata": {
            "tags": [],
            "needs_background": "light"
          }
        },
        {
          "output_type": "display_data",
          "data": {
            "text/plain": [
              "<Figure size 432x288 with 1 Axes>"
            ],
            "image/svg+xml": "<?xml version=\"1.0\" encoding=\"utf-8\" standalone=\"no\"?>\r\n<!DOCTYPE svg PUBLIC \"-//W3C//DTD SVG 1.1//EN\"\r\n  \"http://www.w3.org/Graphics/SVG/1.1/DTD/svg11.dtd\">\r\n<!-- Created with matplotlib (https://matplotlib.org/) -->\r\n<svg height=\"248.518125pt\" version=\"1.1\" viewBox=\"0 0 251.565 248.518125\" width=\"251.565pt\" xmlns=\"http://www.w3.org/2000/svg\" xmlns:xlink=\"http://www.w3.org/1999/xlink\">\r\n <defs>\r\n  <style type=\"text/css\">\r\n*{stroke-linecap:butt;stroke-linejoin:round;}\r\n  </style>\r\n </defs>\r\n <g id=\"figure_1\">\r\n  <g id=\"patch_1\">\r\n   <path d=\"M 0 248.518125 \r\nL 251.565 248.518125 \r\nL 251.565 0 \r\nL 0 0 \r\nz\r\n\" style=\"fill:none;\"/>\r\n  </g>\r\n  <g id=\"axes_1\">\r\n   <g id=\"patch_2\">\r\n    <path d=\"M 26.925 224.64 \r\nL 244.365 224.64 \r\nL 244.365 7.2 \r\nL 26.925 7.2 \r\nz\r\n\" style=\"fill:#ffffff;\"/>\r\n   </g>\r\n   <g clip-path=\"url(#p1e08da2314)\">\r\n    <image height=\"218\" id=\"imagedc56ed569b\" transform=\"scale(1 -1)translate(0 -218)\" width=\"218\" x=\"26.925\" xlink:href=\"data:image/png;base64,\r\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\" y=\"-6.64\"/>\r\n   </g>\r\n   <g id=\"matplotlib.axis_1\">\r\n    <g id=\"xtick_1\">\r\n     <g id=\"line2d_1\">\r\n      <defs>\r\n       <path d=\"M 0 0 \r\nL 0 3.5 \r\n\" id=\"m9025255dc2\" style=\"stroke:#000000;stroke-width:0.8;\"/>\r\n      </defs>\r\n      <g>\r\n       <use style=\"stroke:#000000;stroke-width:0.8;\" x=\"30.807857\" xlink:href=\"#m9025255dc2\" y=\"224.64\"/>\r\n      </g>\r\n     </g>\r\n     <g id=\"text_1\">\r\n      <!-- 0 -->\r\n      <defs>\r\n       <path d=\"M 31.78125 66.40625 \r\nQ 24.171875 66.40625 20.328125 58.90625 \r\nQ 16.5 51.421875 16.5 36.375 \r\nQ 16.5 21.390625 20.328125 13.890625 \r\nQ 24.171875 6.390625 31.78125 6.390625 \r\nQ 39.453125 6.390625 43.28125 13.890625 \r\nQ 47.125 21.390625 47.125 36.375 \r\nQ 47.125 51.421875 43.28125 58.90625 \r\nQ 39.453125 66.40625 31.78125 66.40625 \r\nz\r\nM 31.78125 74.21875 \r\nQ 44.046875 74.21875 50.515625 64.515625 \r\nQ 56.984375 54.828125 56.984375 36.375 \r\nQ 56.984375 17.96875 50.515625 8.265625 \r\nQ 44.046875 -1.421875 31.78125 -1.421875 \r\nQ 19.53125 -1.421875 13.0625 8.265625 \r\nQ 6.59375 17.96875 6.59375 36.375 \r\nQ 6.59375 54.828125 13.0625 64.515625 \r\nQ 19.53125 74.21875 31.78125 74.21875 \r\nz\r\n\" id=\"DejaVuSans-48\"/>\r\n      </defs>\r\n      <g transform=\"translate(27.626607 239.238437)scale(0.1 -0.1)\">\r\n       <use xlink:href=\"#DejaVuSans-48\"/>\r\n      </g>\r\n     </g>\r\n    </g>\r\n    <g id=\"xtick_2\">\r\n     <g id=\"line2d_2\">\r\n      <g>\r\n       <use style=\"stroke:#000000;stroke-width:0.8;\" x=\"69.636429\" xlink:href=\"#m9025255dc2\" y=\"224.64\"/>\r\n      </g>\r\n     </g>\r\n     <g id=\"text_2\">\r\n      <!-- 5 -->\r\n      <defs>\r\n       <path d=\"M 10.796875 72.90625 \r\nL 49.515625 72.90625 \r\nL 49.515625 64.59375 \r\nL 19.828125 64.59375 \r\nL 19.828125 46.734375 \r\nQ 21.96875 47.46875 24.109375 47.828125 \r\nQ 26.265625 48.1875 28.421875 48.1875 \r\nQ 40.625 48.1875 47.75 41.5 \r\nQ 54.890625 34.8125 54.890625 23.390625 \r\nQ 54.890625 11.625 47.5625 5.09375 \r\nQ 40.234375 -1.421875 26.90625 -1.421875 \r\nQ 22.3125 -1.421875 17.546875 -0.640625 \r\nQ 12.796875 0.140625 7.71875 1.703125 \r\nL 7.71875 11.625 \r\nQ 12.109375 9.234375 16.796875 8.0625 \r\nQ 21.484375 6.890625 26.703125 6.890625 \r\nQ 35.15625 6.890625 40.078125 11.328125 \r\nQ 45.015625 15.765625 45.015625 23.390625 \r\nQ 45.015625 31 40.078125 35.4375 \r\nQ 35.15625 39.890625 26.703125 39.890625 \r\nQ 22.75 39.890625 18.8125 39.015625 \r\nQ 14.890625 38.140625 10.796875 36.28125 \r\nz\r\n\" id=\"DejaVuSans-53\"/>\r\n      </defs>\r\n      <g transform=\"translate(66.455179 239.238437)scale(0.1 -0.1)\">\r\n       <use xlink:href=\"#DejaVuSans-53\"/>\r\n      </g>\r\n     </g>\r\n    </g>\r\n    <g id=\"xtick_3\">\r\n     <g id=\"line2d_3\">\r\n      <g>\r\n       <use style=\"stroke:#000000;stroke-width:0.8;\" x=\"108.465\" xlink:href=\"#m9025255dc2\" y=\"224.64\"/>\r\n      </g>\r\n     </g>\r\n     <g id=\"text_3\">\r\n      <!-- 10 -->\r\n      <defs>\r\n       <path d=\"M 12.40625 8.296875 \r\nL 28.515625 8.296875 \r\nL 28.515625 63.921875 \r\nL 10.984375 60.40625 \r\nL 10.984375 69.390625 \r\nL 28.421875 72.90625 \r\nL 38.28125 72.90625 \r\nL 38.28125 8.296875 \r\nL 54.390625 8.296875 \r\nL 54.390625 0 \r\nL 12.40625 0 \r\nz\r\n\" id=\"DejaVuSans-49\"/>\r\n      </defs>\r\n      <g transform=\"translate(102.1025 239.238437)scale(0.1 -0.1)\">\r\n       <use xlink:href=\"#DejaVuSans-49\"/>\r\n       <use x=\"63.623047\" xlink:href=\"#DejaVuSans-48\"/>\r\n      </g>\r\n     </g>\r\n    </g>\r\n    <g id=\"xtick_4\">\r\n     <g id=\"line2d_4\">\r\n      <g>\r\n       <use style=\"stroke:#000000;stroke-width:0.8;\" x=\"147.293571\" xlink:href=\"#m9025255dc2\" y=\"224.64\"/>\r\n      </g>\r\n     </g>\r\n     <g id=\"text_4\">\r\n      <!-- 15 -->\r\n      <g transform=\"translate(140.931071 239.238437)scale(0.1 -0.1)\">\r\n       <use xlink:href=\"#DejaVuSans-49\"/>\r\n       <use x=\"63.623047\" xlink:href=\"#DejaVuSans-53\"/>\r\n      </g>\r\n     </g>\r\n    </g>\r\n    <g id=\"xtick_5\">\r\n     <g id=\"line2d_5\">\r\n      <g>\r\n       <use style=\"stroke:#000000;stroke-width:0.8;\" x=\"186.122143\" xlink:href=\"#m9025255dc2\" y=\"224.64\"/>\r\n      </g>\r\n     </g>\r\n     <g id=\"text_5\">\r\n      <!-- 20 -->\r\n      <defs>\r\n       <path d=\"M 19.1875 8.296875 \r\nL 53.609375 8.296875 \r\nL 53.609375 0 \r\nL 7.328125 0 \r\nL 7.328125 8.296875 \r\nQ 12.9375 14.109375 22.625 23.890625 \r\nQ 32.328125 33.6875 34.8125 36.53125 \r\nQ 39.546875 41.84375 41.421875 45.53125 \r\nQ 43.3125 49.21875 43.3125 52.78125 \r\nQ 43.3125 58.59375 39.234375 62.25 \r\nQ 35.15625 65.921875 28.609375 65.921875 \r\nQ 23.96875 65.921875 18.8125 64.3125 \r\nQ 13.671875 62.703125 7.8125 59.421875 \r\nL 7.8125 69.390625 \r\nQ 13.765625 71.78125 18.9375 73 \r\nQ 24.125 74.21875 28.421875 74.21875 \r\nQ 39.75 74.21875 46.484375 68.546875 \r\nQ 53.21875 62.890625 53.21875 53.421875 \r\nQ 53.21875 48.921875 51.53125 44.890625 \r\nQ 49.859375 40.875 45.40625 35.40625 \r\nQ 44.1875 33.984375 37.640625 27.21875 \r\nQ 31.109375 20.453125 19.1875 8.296875 \r\nz\r\n\" id=\"DejaVuSans-50\"/>\r\n      </defs>\r\n      <g transform=\"translate(179.759643 239.238437)scale(0.1 -0.1)\">\r\n       <use xlink:href=\"#DejaVuSans-50\"/>\r\n       <use x=\"63.623047\" xlink:href=\"#DejaVuSans-48\"/>\r\n      </g>\r\n     </g>\r\n    </g>\r\n    <g id=\"xtick_6\">\r\n     <g id=\"line2d_6\">\r\n      <g>\r\n       <use style=\"stroke:#000000;stroke-width:0.8;\" x=\"224.950714\" xlink:href=\"#m9025255dc2\" y=\"224.64\"/>\r\n      </g>\r\n     </g>\r\n     <g id=\"text_6\">\r\n      <!-- 25 -->\r\n      <g transform=\"translate(218.588214 239.238437)scale(0.1 -0.1)\">\r\n       <use xlink:href=\"#DejaVuSans-50\"/>\r\n       <use x=\"63.623047\" xlink:href=\"#DejaVuSans-53\"/>\r\n      </g>\r\n     </g>\r\n    </g>\r\n   </g>\r\n   <g id=\"matplotlib.axis_2\">\r\n    <g id=\"ytick_1\">\r\n     <g id=\"line2d_7\">\r\n      <defs>\r\n       <path d=\"M 0 0 \r\nL -3.5 0 \r\n\" id=\"meeb0c34259\" style=\"stroke:#000000;stroke-width:0.8;\"/>\r\n      </defs>\r\n      <g>\r\n       <use style=\"stroke:#000000;stroke-width:0.8;\" x=\"26.925\" xlink:href=\"#meeb0c34259\" y=\"11.082857\"/>\r\n      </g>\r\n     </g>\r\n     <g id=\"text_7\">\r\n      <!-- 0 -->\r\n      <g transform=\"translate(13.5625 14.882076)scale(0.1 -0.1)\">\r\n       <use xlink:href=\"#DejaVuSans-48\"/>\r\n      </g>\r\n     </g>\r\n    </g>\r\n    <g id=\"ytick_2\">\r\n     <g id=\"line2d_8\">\r\n      <g>\r\n       <use style=\"stroke:#000000;stroke-width:0.8;\" x=\"26.925\" xlink:href=\"#meeb0c34259\" y=\"49.911429\"/>\r\n      </g>\r\n     </g>\r\n     <g id=\"text_8\">\r\n      <!-- 5 -->\r\n      <g transform=\"translate(13.5625 53.710647)scale(0.1 -0.1)\">\r\n       <use xlink:href=\"#DejaVuSans-53\"/>\r\n      </g>\r\n     </g>\r\n    </g>\r\n    <g id=\"ytick_3\">\r\n     <g id=\"line2d_9\">\r\n      <g>\r\n       <use style=\"stroke:#000000;stroke-width:0.8;\" x=\"26.925\" xlink:href=\"#meeb0c34259\" y=\"88.74\"/>\r\n      </g>\r\n     </g>\r\n     <g id=\"text_9\">\r\n      <!-- 10 -->\r\n      <g transform=\"translate(7.2 92.539219)scale(0.1 -0.1)\">\r\n       <use xlink:href=\"#DejaVuSans-49\"/>\r\n       <use x=\"63.623047\" xlink:href=\"#DejaVuSans-48\"/>\r\n      </g>\r\n     </g>\r\n    </g>\r\n    <g id=\"ytick_4\">\r\n     <g id=\"line2d_10\">\r\n      <g>\r\n       <use style=\"stroke:#000000;stroke-width:0.8;\" x=\"26.925\" xlink:href=\"#meeb0c34259\" y=\"127.568571\"/>\r\n      </g>\r\n     </g>\r\n     <g id=\"text_10\">\r\n      <!-- 15 -->\r\n      <g transform=\"translate(7.2 131.36779)scale(0.1 -0.1)\">\r\n       <use xlink:href=\"#DejaVuSans-49\"/>\r\n       <use x=\"63.623047\" xlink:href=\"#DejaVuSans-53\"/>\r\n      </g>\r\n     </g>\r\n    </g>\r\n    <g id=\"ytick_5\">\r\n     <g id=\"line2d_11\">\r\n      <g>\r\n       <use style=\"stroke:#000000;stroke-width:0.8;\" x=\"26.925\" xlink:href=\"#meeb0c34259\" y=\"166.397143\"/>\r\n      </g>\r\n     </g>\r\n     <g id=\"text_11\">\r\n      <!-- 20 -->\r\n      <g transform=\"translate(7.2 170.196362)scale(0.1 -0.1)\">\r\n       <use xlink:href=\"#DejaVuSans-50\"/>\r\n       <use x=\"63.623047\" xlink:href=\"#DejaVuSans-48\"/>\r\n      </g>\r\n     </g>\r\n    </g>\r\n    <g id=\"ytick_6\">\r\n     <g id=\"line2d_12\">\r\n      <g>\r\n       <use style=\"stroke:#000000;stroke-width:0.8;\" x=\"26.925\" xlink:href=\"#meeb0c34259\" y=\"205.225714\"/>\r\n      </g>\r\n     </g>\r\n     <g id=\"text_12\">\r\n      <!-- 25 -->\r\n      <g transform=\"translate(7.2 209.024933)scale(0.1 -0.1)\">\r\n       <use xlink:href=\"#DejaVuSans-50\"/>\r\n       <use x=\"63.623047\" xlink:href=\"#DejaVuSans-53\"/>\r\n      </g>\r\n     </g>\r\n    </g>\r\n   </g>\r\n   <g id=\"patch_3\">\r\n    <path d=\"M 26.925 224.64 \r\nL 26.925 7.2 \r\n\" style=\"fill:none;stroke:#000000;stroke-linecap:square;stroke-linejoin:miter;stroke-width:0.8;\"/>\r\n   </g>\r\n   <g id=\"patch_4\">\r\n    <path d=\"M 244.365 224.64 \r\nL 244.365 7.2 \r\n\" style=\"fill:none;stroke:#000000;stroke-linecap:square;stroke-linejoin:miter;stroke-width:0.8;\"/>\r\n   </g>\r\n   <g id=\"patch_5\">\r\n    <path d=\"M 26.925 224.64 \r\nL 244.365 224.64 \r\n\" style=\"fill:none;stroke:#000000;stroke-linecap:square;stroke-linejoin:miter;stroke-width:0.8;\"/>\r\n   </g>\r\n   <g id=\"patch_6\">\r\n    <path d=\"M 26.925 7.2 \r\nL 244.365 7.2 \r\n\" style=\"fill:none;stroke:#000000;stroke-linecap:square;stroke-linejoin:miter;stroke-width:0.8;\"/>\r\n   </g>\r\n  </g>\r\n </g>\r\n <defs>\r\n  <clipPath id=\"p1e08da2314\">\r\n   <rect height=\"217.44\" width=\"217.44\" x=\"26.925\" y=\"7.2\"/>\r\n  </clipPath>\r\n </defs>\r\n</svg>\r\n",
            "image/png": "[encoded data removed]"
          },
          "metadata": {
            "tags": [],
            "needs_background": "light"
          }
        },
        {
          "output_type": "display_data",
          "data": {
            "text/plain": [
              "<Figure size 432x288 with 1 Axes>"
            ],
            "image/svg+xml": "<?xml version=\"1.0\" encoding=\"utf-8\" standalone=\"no\"?>\r\n<!DOCTYPE svg PUBLIC \"-//W3C//DTD SVG 1.1//EN\"\r\n  \"http://www.w3.org/Graphics/SVG/1.1/DTD/svg11.dtd\">\r\n<!-- Created with matplotlib (https://matplotlib.org/) -->\r\n<svg height=\"248.518125pt\" version=\"1.1\" viewBox=\"0 0 251.565 248.518125\" width=\"251.565pt\" xmlns=\"http://www.w3.org/2000/svg\" xmlns:xlink=\"http://www.w3.org/1999/xlink\">\r\n <defs>\r\n  <style type=\"text/css\">\r\n*{stroke-linecap:butt;stroke-linejoin:round;}\r\n  </style>\r\n </defs>\r\n <g id=\"figure_1\">\r\n  <g id=\"patch_1\">\r\n   <path d=\"M 0 248.518125 \r\nL 251.565 248.518125 \r\nL 251.565 0 \r\nL 0 0 \r\nz\r\n\" style=\"fill:none;\"/>\r\n  </g>\r\n  <g id=\"axes_1\">\r\n   <g id=\"patch_2\">\r\n    <path d=\"M 26.925 224.64 \r\nL 244.365 224.64 \r\nL 244.365 7.2 \r\nL 26.925 7.2 \r\nz\r\n\" style=\"fill:#ffffff;\"/>\r\n   </g>\r\n   <g clip-path=\"url(#p64b78af777)\">\r\n    <image height=\"218\" id=\"image97362ee9ff\" transform=\"scale(1 -1)translate(0 -218)\" width=\"218\" x=\"26.925\" xlink:href=\"data:image/png;base64,\r\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\" y=\"-6.64\"/>\r\n   </g>\r\n   <g id=\"matplotlib.axis_1\">\r\n    <g id=\"xtick_1\">\r\n     <g id=\"line2d_1\">\r\n      <defs>\r\n       <path d=\"M 0 0 \r\nL 0 3.5 \r\n\" id=\"m78d0d328ce\" style=\"stroke:#000000;stroke-width:0.8;\"/>\r\n      </defs>\r\n      <g>\r\n       <use style=\"stroke:#000000;stroke-width:0.8;\" x=\"30.807857\" xlink:href=\"#m78d0d328ce\" y=\"224.64\"/>\r\n      </g>\r\n     </g>\r\n     <g id=\"text_1\">\r\n      <!-- 0 -->\r\n      <defs>\r\n       <path d=\"M 31.78125 66.40625 \r\nQ 24.171875 66.40625 20.328125 58.90625 \r\nQ 16.5 51.421875 16.5 36.375 \r\nQ 16.5 21.390625 20.328125 13.890625 \r\nQ 24.171875 6.390625 31.78125 6.390625 \r\nQ 39.453125 6.390625 43.28125 13.890625 \r\nQ 47.125 21.390625 47.125 36.375 \r\nQ 47.125 51.421875 43.28125 58.90625 \r\nQ 39.453125 66.40625 31.78125 66.40625 \r\nz\r\nM 31.78125 74.21875 \r\nQ 44.046875 74.21875 50.515625 64.515625 \r\nQ 56.984375 54.828125 56.984375 36.375 \r\nQ 56.984375 17.96875 50.515625 8.265625 \r\nQ 44.046875 -1.421875 31.78125 -1.421875 \r\nQ 19.53125 -1.421875 13.0625 8.265625 \r\nQ 6.59375 17.96875 6.59375 36.375 \r\nQ 6.59375 54.828125 13.0625 64.515625 \r\nQ 19.53125 74.21875 31.78125 74.21875 \r\nz\r\n\" id=\"DejaVuSans-48\"/>\r\n      </defs>\r\n      <g transform=\"translate(27.626607 239.238437)scale(0.1 -0.1)\">\r\n       <use xlink:href=\"#DejaVuSans-48\"/>\r\n      </g>\r\n     </g>\r\n    </g>\r\n    <g id=\"xtick_2\">\r\n     <g id=\"line2d_2\">\r\n      <g>\r\n       <use style=\"stroke:#000000;stroke-width:0.8;\" x=\"69.636429\" xlink:href=\"#m78d0d328ce\" y=\"224.64\"/>\r\n      </g>\r\n     </g>\r\n     <g id=\"text_2\">\r\n      <!-- 5 -->\r\n      <defs>\r\n       <path d=\"M 10.796875 72.90625 \r\nL 49.515625 72.90625 \r\nL 49.515625 64.59375 \r\nL 19.828125 64.59375 \r\nL 19.828125 46.734375 \r\nQ 21.96875 47.46875 24.109375 47.828125 \r\nQ 26.265625 48.1875 28.421875 48.1875 \r\nQ 40.625 48.1875 47.75 41.5 \r\nQ 54.890625 34.8125 54.890625 23.390625 \r\nQ 54.890625 11.625 47.5625 5.09375 \r\nQ 40.234375 -1.421875 26.90625 -1.421875 \r\nQ 22.3125 -1.421875 17.546875 -0.640625 \r\nQ 12.796875 0.140625 7.71875 1.703125 \r\nL 7.71875 11.625 \r\nQ 12.109375 9.234375 16.796875 8.0625 \r\nQ 21.484375 6.890625 26.703125 6.890625 \r\nQ 35.15625 6.890625 40.078125 11.328125 \r\nQ 45.015625 15.765625 45.015625 23.390625 \r\nQ 45.015625 31 40.078125 35.4375 \r\nQ 35.15625 39.890625 26.703125 39.890625 \r\nQ 22.75 39.890625 18.8125 39.015625 \r\nQ 14.890625 38.140625 10.796875 36.28125 \r\nz\r\n\" id=\"DejaVuSans-53\"/>\r\n      </defs>\r\n      <g transform=\"translate(66.455179 239.238437)scale(0.1 -0.1)\">\r\n       <use xlink:href=\"#DejaVuSans-53\"/>\r\n      </g>\r\n     </g>\r\n    </g>\r\n    <g id=\"xtick_3\">\r\n     <g id=\"line2d_3\">\r\n      <g>\r\n       <use style=\"stroke:#000000;stroke-width:0.8;\" x=\"108.465\" xlink:href=\"#m78d0d328ce\" y=\"224.64\"/>\r\n      </g>\r\n     </g>\r\n     <g id=\"text_3\">\r\n      <!-- 10 -->\r\n      <defs>\r\n       <path d=\"M 12.40625 8.296875 \r\nL 28.515625 8.296875 \r\nL 28.515625 63.921875 \r\nL 10.984375 60.40625 \r\nL 10.984375 69.390625 \r\nL 28.421875 72.90625 \r\nL 38.28125 72.90625 \r\nL 38.28125 8.296875 \r\nL 54.390625 8.296875 \r\nL 54.390625 0 \r\nL 12.40625 0 \r\nz\r\n\" id=\"DejaVuSans-49\"/>\r\n      </defs>\r\n      <g transform=\"translate(102.1025 239.238437)scale(0.1 -0.1)\">\r\n       <use xlink:href=\"#DejaVuSans-49\"/>\r\n       <use x=\"63.623047\" xlink:href=\"#DejaVuSans-48\"/>\r\n      </g>\r\n     </g>\r\n    </g>\r\n    <g id=\"xtick_4\">\r\n     <g id=\"line2d_4\">\r\n      <g>\r\n       <use style=\"stroke:#000000;stroke-width:0.8;\" x=\"147.293571\" xlink:href=\"#m78d0d328ce\" y=\"224.64\"/>\r\n      </g>\r\n     </g>\r\n     <g id=\"text_4\">\r\n      <!-- 15 -->\r\n      <g transform=\"translate(140.931071 239.238437)scale(0.1 -0.1)\">\r\n       <use xlink:href=\"#DejaVuSans-49\"/>\r\n       <use x=\"63.623047\" xlink:href=\"#DejaVuSans-53\"/>\r\n      </g>\r\n     </g>\r\n    </g>\r\n    <g id=\"xtick_5\">\r\n     <g id=\"line2d_5\">\r\n      <g>\r\n       <use style=\"stroke:#000000;stroke-width:0.8;\" x=\"186.122143\" xlink:href=\"#m78d0d328ce\" y=\"224.64\"/>\r\n      </g>\r\n     </g>\r\n     <g id=\"text_5\">\r\n      <!-- 20 -->\r\n      <defs>\r\n       <path d=\"M 19.1875 8.296875 \r\nL 53.609375 8.296875 \r\nL 53.609375 0 \r\nL 7.328125 0 \r\nL 7.328125 8.296875 \r\nQ 12.9375 14.109375 22.625 23.890625 \r\nQ 32.328125 33.6875 34.8125 36.53125 \r\nQ 39.546875 41.84375 41.421875 45.53125 \r\nQ 43.3125 49.21875 43.3125 52.78125 \r\nQ 43.3125 58.59375 39.234375 62.25 \r\nQ 35.15625 65.921875 28.609375 65.921875 \r\nQ 23.96875 65.921875 18.8125 64.3125 \r\nQ 13.671875 62.703125 7.8125 59.421875 \r\nL 7.8125 69.390625 \r\nQ 13.765625 71.78125 18.9375 73 \r\nQ 24.125 74.21875 28.421875 74.21875 \r\nQ 39.75 74.21875 46.484375 68.546875 \r\nQ 53.21875 62.890625 53.21875 53.421875 \r\nQ 53.21875 48.921875 51.53125 44.890625 \r\nQ 49.859375 40.875 45.40625 35.40625 \r\nQ 44.1875 33.984375 37.640625 27.21875 \r\nQ 31.109375 20.453125 19.1875 8.296875 \r\nz\r\n\" id=\"DejaVuSans-50\"/>\r\n      </defs>\r\n      <g transform=\"translate(179.759643 239.238437)scale(0.1 -0.1)\">\r\n       <use xlink:href=\"#DejaVuSans-50\"/>\r\n       <use x=\"63.623047\" xlink:href=\"#DejaVuSans-48\"/>\r\n      </g>\r\n     </g>\r\n    </g>\r\n    <g id=\"xtick_6\">\r\n     <g id=\"line2d_6\">\r\n      <g>\r\n       <use style=\"stroke:#000000;stroke-width:0.8;\" x=\"224.950714\" xlink:href=\"#m78d0d328ce\" y=\"224.64\"/>\r\n      </g>\r\n     </g>\r\n     <g id=\"text_6\">\r\n      <!-- 25 -->\r\n      <g transform=\"translate(218.588214 239.238437)scale(0.1 -0.1)\">\r\n       <use xlink:href=\"#DejaVuSans-50\"/>\r\n       <use x=\"63.623047\" xlink:href=\"#DejaVuSans-53\"/>\r\n      </g>\r\n     </g>\r\n    </g>\r\n   </g>\r\n   <g id=\"matplotlib.axis_2\">\r\n    <g id=\"ytick_1\">\r\n     <g id=\"line2d_7\">\r\n      <defs>\r\n       <path d=\"M 0 0 \r\nL -3.5 0 \r\n\" id=\"m51b6dca302\" style=\"stroke:#000000;stroke-width:0.8;\"/>\r\n      </defs>\r\n      <g>\r\n       <use style=\"stroke:#000000;stroke-width:0.8;\" x=\"26.925\" xlink:href=\"#m51b6dca302\" y=\"11.082857\"/>\r\n      </g>\r\n     </g>\r\n     <g id=\"text_7\">\r\n      <!-- 0 -->\r\n      <g transform=\"translate(13.5625 14.882076)scale(0.1 -0.1)\">\r\n       <use xlink:href=\"#DejaVuSans-48\"/>\r\n      </g>\r\n     </g>\r\n    </g>\r\n    <g id=\"ytick_2\">\r\n     <g id=\"line2d_8\">\r\n      <g>\r\n       <use style=\"stroke:#000000;stroke-width:0.8;\" x=\"26.925\" xlink:href=\"#m51b6dca302\" y=\"49.911429\"/>\r\n      </g>\r\n     </g>\r\n     <g id=\"text_8\">\r\n      <!-- 5 -->\r\n      <g transform=\"translate(13.5625 53.710647)scale(0.1 -0.1)\">\r\n       <use xlink:href=\"#DejaVuSans-53\"/>\r\n      </g>\r\n     </g>\r\n    </g>\r\n    <g id=\"ytick_3\">\r\n     <g id=\"line2d_9\">\r\n      <g>\r\n       <use style=\"stroke:#000000;stroke-width:0.8;\" x=\"26.925\" xlink:href=\"#m51b6dca302\" y=\"88.74\"/>\r\n      </g>\r\n     </g>\r\n     <g id=\"text_9\">\r\n      <!-- 10 -->\r\n      <g transform=\"translate(7.2 92.539219)scale(0.1 -0.1)\">\r\n       <use xlink:href=\"#DejaVuSans-49\"/>\r\n       <use x=\"63.623047\" xlink:href=\"#DejaVuSans-48\"/>\r\n      </g>\r\n     </g>\r\n    </g>\r\n    <g id=\"ytick_4\">\r\n     <g id=\"line2d_10\">\r\n      <g>\r\n       <use style=\"stroke:#000000;stroke-width:0.8;\" x=\"26.925\" xlink:href=\"#m51b6dca302\" y=\"127.568571\"/>\r\n      </g>\r\n     </g>\r\n     <g id=\"text_10\">\r\n      <!-- 15 -->\r\n      <g transform=\"translate(7.2 131.36779)scale(0.1 -0.1)\">\r\n       <use xlink:href=\"#DejaVuSans-49\"/>\r\n       <use x=\"63.623047\" xlink:href=\"#DejaVuSans-53\"/>\r\n      </g>\r\n     </g>\r\n    </g>\r\n    <g id=\"ytick_5\">\r\n     <g id=\"line2d_11\">\r\n      <g>\r\n       <use style=\"stroke:#000000;stroke-width:0.8;\" x=\"26.925\" xlink:href=\"#m51b6dca302\" y=\"166.397143\"/>\r\n      </g>\r\n     </g>\r\n     <g id=\"text_11\">\r\n      <!-- 20 -->\r\n      <g transform=\"translate(7.2 170.196362)scale(0.1 -0.1)\">\r\n       <use xlink:href=\"#DejaVuSans-50\"/>\r\n       <use x=\"63.623047\" xlink:href=\"#DejaVuSans-48\"/>\r\n      </g>\r\n     </g>\r\n    </g>\r\n    <g id=\"ytick_6\">\r\n     <g id=\"line2d_12\">\r\n      <g>\r\n       <use style=\"stroke:#000000;stroke-width:0.8;\" x=\"26.925\" xlink:href=\"#m51b6dca302\" y=\"205.225714\"/>\r\n      </g>\r\n     </g>\r\n     <g id=\"text_12\">\r\n      <!-- 25 -->\r\n      <g transform=\"translate(7.2 209.024933)scale(0.1 -0.1)\">\r\n       <use xlink:href=\"#DejaVuSans-50\"/>\r\n       <use x=\"63.623047\" xlink:href=\"#DejaVuSans-53\"/>\r\n      </g>\r\n     </g>\r\n    </g>\r\n   </g>\r\n   <g id=\"patch_3\">\r\n    <path d=\"M 26.925 224.64 \r\nL 26.925 7.2 \r\n\" style=\"fill:none;stroke:#000000;stroke-linecap:square;stroke-linejoin:miter;stroke-width:0.8;\"/>\r\n   </g>\r\n   <g id=\"patch_4\">\r\n    <path d=\"M 244.365 224.64 \r\nL 244.365 7.2 \r\n\" style=\"fill:none;stroke:#000000;stroke-linecap:square;stroke-linejoin:miter;stroke-width:0.8;\"/>\r\n   </g>\r\n   <g id=\"patch_5\">\r\n    <path d=\"M 26.925 224.64 \r\nL 244.365 224.64 \r\n\" style=\"fill:none;stroke:#000000;stroke-linecap:square;stroke-linejoin:miter;stroke-width:0.8;\"/>\r\n   </g>\r\n   <g id=\"patch_6\">\r\n    <path d=\"M 26.925 7.2 \r\nL 244.365 7.2 \r\n\" style=\"fill:none;stroke:#000000;stroke-linecap:square;stroke-linejoin:miter;stroke-width:0.8;\"/>\r\n   </g>\r\n  </g>\r\n </g>\r\n <defs>\r\n  <clipPath id=\"p64b78af777\">\r\n   <rect height=\"217.44\" width=\"217.44\" x=\"26.925\" y=\"7.2\"/>\r\n  </clipPath>\r\n </defs>\r\n</svg>\r\n",
            "image/png": "[encoded data removed]"
          },
          "metadata": {
            "tags": [],
            "needs_background": "light"
          }
        }
      ]
    },
    {
      "cell_type": "markdown",
      "metadata": {
        "id": "YhiqO3xHwn4U"
      },
      "source": [
        "#### Remarks: I could train it for more epochs but it would take centuries to complete on my laptop :C\n",
        "#### But our model has 'somewhat' learned to identify the patterns"
      ]
    },
    {
      "cell_type": "code",
      "metadata": {
        "id": "wv7gF_hGwn4W"
      },
      "source": [
        ""
      ],
      "execution_count": null,
      "outputs": []
    }
  ]
}